{
  "nbformat": 4,
  "nbformat_minor": 0,
  "metadata": {
    "colab": {
      "provenance": [],
      "gpuType": "T4",
      "toc_visible": true,
      "authorship_tag": "ABX9TyMDG1MMbVa+TcTeKG4Vm8Y7",
      "include_colab_link": true
    },
    "kernelspec": {
      "name": "python3",
      "display_name": "Python 3"
    },
    "language_info": {
      "name": "python"
    },
    "accelerator": "GPU"
  },
  "cells": [
    {
      "cell_type": "markdown",
      "metadata": {
        "id": "view-in-github",
        "colab_type": "text"
      },
      "source": [
        "<a href=\"https://colab.research.google.com/github/AndreRab/Ensamble-generation/blob/main/Experiment1_MNIST.ipynb\" target=\"_parent\"><img src=\"https://colab.research.google.com/assets/colab-badge.svg\" alt=\"Open In Colab\"/></a>"
      ]
    },
    {
      "cell_type": "markdown",
      "source": [
        "## Dependecies"
      ],
      "metadata": {
        "id": "EU6JEVL94Uby"
      }
    },
    {
      "cell_type": "code",
      "source": [
        "!pip install torchmetrics"
      ],
      "metadata": {
        "colab": {
          "base_uri": "https://localhost:8080/"
        },
        "id": "fi3fZBNRe5Wa",
        "outputId": "7e3c82a6-40d6-4d59-dae1-9f454fca75c2"
      },
      "execution_count": 1,
      "outputs": [
        {
          "output_type": "stream",
          "name": "stdout",
          "text": [
            "Collecting torchmetrics\n",
            "  Downloading torchmetrics-1.7.1-py3-none-any.whl.metadata (21 kB)\n",
            "Requirement already satisfied: numpy>1.20.0 in /usr/local/lib/python3.11/dist-packages (from torchmetrics) (2.0.2)\n",
            "Requirement already satisfied: packaging>17.1 in /usr/local/lib/python3.11/dist-packages (from torchmetrics) (24.2)\n",
            "Requirement already satisfied: torch>=2.0.0 in /usr/local/lib/python3.11/dist-packages (from torchmetrics) (2.6.0+cu124)\n",
            "Collecting lightning-utilities>=0.8.0 (from torchmetrics)\n",
            "  Downloading lightning_utilities-0.14.3-py3-none-any.whl.metadata (5.6 kB)\n",
            "Requirement already satisfied: setuptools in /usr/local/lib/python3.11/dist-packages (from lightning-utilities>=0.8.0->torchmetrics) (75.2.0)\n",
            "Requirement already satisfied: typing_extensions in /usr/local/lib/python3.11/dist-packages (from lightning-utilities>=0.8.0->torchmetrics) (4.13.2)\n",
            "Requirement already satisfied: filelock in /usr/local/lib/python3.11/dist-packages (from torch>=2.0.0->torchmetrics) (3.18.0)\n",
            "Requirement already satisfied: networkx in /usr/local/lib/python3.11/dist-packages (from torch>=2.0.0->torchmetrics) (3.4.2)\n",
            "Requirement already satisfied: jinja2 in /usr/local/lib/python3.11/dist-packages (from torch>=2.0.0->torchmetrics) (3.1.6)\n",
            "Requirement already satisfied: fsspec in /usr/local/lib/python3.11/dist-packages (from torch>=2.0.0->torchmetrics) (2025.3.2)\n",
            "Collecting nvidia-cuda-nvrtc-cu12==12.4.127 (from torch>=2.0.0->torchmetrics)\n",
            "  Downloading nvidia_cuda_nvrtc_cu12-12.4.127-py3-none-manylinux2014_x86_64.whl.metadata (1.5 kB)\n",
            "Collecting nvidia-cuda-runtime-cu12==12.4.127 (from torch>=2.0.0->torchmetrics)\n",
            "  Downloading nvidia_cuda_runtime_cu12-12.4.127-py3-none-manylinux2014_x86_64.whl.metadata (1.5 kB)\n",
            "Collecting nvidia-cuda-cupti-cu12==12.4.127 (from torch>=2.0.0->torchmetrics)\n",
            "  Downloading nvidia_cuda_cupti_cu12-12.4.127-py3-none-manylinux2014_x86_64.whl.metadata (1.6 kB)\n",
            "Collecting nvidia-cudnn-cu12==9.1.0.70 (from torch>=2.0.0->torchmetrics)\n",
            "  Downloading nvidia_cudnn_cu12-9.1.0.70-py3-none-manylinux2014_x86_64.whl.metadata (1.6 kB)\n",
            "Collecting nvidia-cublas-cu12==12.4.5.8 (from torch>=2.0.0->torchmetrics)\n",
            "  Downloading nvidia_cublas_cu12-12.4.5.8-py3-none-manylinux2014_x86_64.whl.metadata (1.5 kB)\n",
            "Collecting nvidia-cufft-cu12==11.2.1.3 (from torch>=2.0.0->torchmetrics)\n",
            "  Downloading nvidia_cufft_cu12-11.2.1.3-py3-none-manylinux2014_x86_64.whl.metadata (1.5 kB)\n",
            "Collecting nvidia-curand-cu12==10.3.5.147 (from torch>=2.0.0->torchmetrics)\n",
            "  Downloading nvidia_curand_cu12-10.3.5.147-py3-none-manylinux2014_x86_64.whl.metadata (1.5 kB)\n",
            "Collecting nvidia-cusolver-cu12==11.6.1.9 (from torch>=2.0.0->torchmetrics)\n",
            "  Downloading nvidia_cusolver_cu12-11.6.1.9-py3-none-manylinux2014_x86_64.whl.metadata (1.6 kB)\n",
            "Collecting nvidia-cusparse-cu12==12.3.1.170 (from torch>=2.0.0->torchmetrics)\n",
            "  Downloading nvidia_cusparse_cu12-12.3.1.170-py3-none-manylinux2014_x86_64.whl.metadata (1.6 kB)\n",
            "Requirement already satisfied: nvidia-cusparselt-cu12==0.6.2 in /usr/local/lib/python3.11/dist-packages (from torch>=2.0.0->torchmetrics) (0.6.2)\n",
            "Requirement already satisfied: nvidia-nccl-cu12==2.21.5 in /usr/local/lib/python3.11/dist-packages (from torch>=2.0.0->torchmetrics) (2.21.5)\n",
            "Requirement already satisfied: nvidia-nvtx-cu12==12.4.127 in /usr/local/lib/python3.11/dist-packages (from torch>=2.0.0->torchmetrics) (12.4.127)\n",
            "Collecting nvidia-nvjitlink-cu12==12.4.127 (from torch>=2.0.0->torchmetrics)\n",
            "  Downloading nvidia_nvjitlink_cu12-12.4.127-py3-none-manylinux2014_x86_64.whl.metadata (1.5 kB)\n",
            "Requirement already satisfied: triton==3.2.0 in /usr/local/lib/python3.11/dist-packages (from torch>=2.0.0->torchmetrics) (3.2.0)\n",
            "Requirement already satisfied: sympy==1.13.1 in /usr/local/lib/python3.11/dist-packages (from torch>=2.0.0->torchmetrics) (1.13.1)\n",
            "Requirement already satisfied: mpmath<1.4,>=1.1.0 in /usr/local/lib/python3.11/dist-packages (from sympy==1.13.1->torch>=2.0.0->torchmetrics) (1.3.0)\n",
            "Requirement already satisfied: MarkupSafe>=2.0 in /usr/local/lib/python3.11/dist-packages (from jinja2->torch>=2.0.0->torchmetrics) (3.0.2)\n",
            "Downloading torchmetrics-1.7.1-py3-none-any.whl (961 kB)\n",
            "\u001b[2K   \u001b[90m━━━━━━━━━━━━━━━━━━━━━━━━━━━━━━━━━━━━━━━━\u001b[0m \u001b[32m961.5/961.5 kB\u001b[0m \u001b[31m23.5 MB/s\u001b[0m eta \u001b[36m0:00:00\u001b[0m\n",
            "\u001b[?25hDownloading lightning_utilities-0.14.3-py3-none-any.whl (28 kB)\n",
            "Downloading nvidia_cublas_cu12-12.4.5.8-py3-none-manylinux2014_x86_64.whl (363.4 MB)\n",
            "\u001b[2K   \u001b[90m━━━━━━━━━━━━━━━━━━━━━━━━━━━━━━━━━━━━━━━━\u001b[0m \u001b[32m363.4/363.4 MB\u001b[0m \u001b[31m1.4 MB/s\u001b[0m eta \u001b[36m0:00:00\u001b[0m\n",
            "\u001b[?25hDownloading nvidia_cuda_cupti_cu12-12.4.127-py3-none-manylinux2014_x86_64.whl (13.8 MB)\n",
            "\u001b[2K   \u001b[90m━━━━━━━━━━━━━━━━━━━━━━━━━━━━━━━━━━━━━━━━\u001b[0m \u001b[32m13.8/13.8 MB\u001b[0m \u001b[31m106.5 MB/s\u001b[0m eta \u001b[36m0:00:00\u001b[0m\n",
            "\u001b[?25hDownloading nvidia_cuda_nvrtc_cu12-12.4.127-py3-none-manylinux2014_x86_64.whl (24.6 MB)\n",
            "\u001b[2K   \u001b[90m━━━━━━━━━━━━━━━━━━━━━━━━━━━━━━━━━━━━━━━━\u001b[0m \u001b[32m24.6/24.6 MB\u001b[0m \u001b[31m96.9 MB/s\u001b[0m eta \u001b[36m0:00:00\u001b[0m\n",
            "\u001b[?25hDownloading nvidia_cuda_runtime_cu12-12.4.127-py3-none-manylinux2014_x86_64.whl (883 kB)\n",
            "\u001b[2K   \u001b[90m━━━━━━━━━━━━━━━━━━━━━━━━━━━━━━━━━━━━━━━━\u001b[0m \u001b[32m883.7/883.7 kB\u001b[0m \u001b[31m60.6 MB/s\u001b[0m eta \u001b[36m0:00:00\u001b[0m\n",
            "\u001b[?25hDownloading nvidia_cudnn_cu12-9.1.0.70-py3-none-manylinux2014_x86_64.whl (664.8 MB)\n",
            "\u001b[2K   \u001b[90m━━━━━━━━━━━━━━━━━━━━━━━━━━━━━━━━━━━━━━━━\u001b[0m \u001b[32m664.8/664.8 MB\u001b[0m \u001b[31m2.8 MB/s\u001b[0m eta \u001b[36m0:00:00\u001b[0m\n",
            "\u001b[?25hDownloading nvidia_cufft_cu12-11.2.1.3-py3-none-manylinux2014_x86_64.whl (211.5 MB)\n",
            "\u001b[2K   \u001b[90m━━━━━━━━━━━━━━━━━━━━━━━━━━━━━━━━━━━━━━━━\u001b[0m \u001b[32m211.5/211.5 MB\u001b[0m \u001b[31m6.6 MB/s\u001b[0m eta \u001b[36m0:00:00\u001b[0m\n",
            "\u001b[?25hDownloading nvidia_curand_cu12-10.3.5.147-py3-none-manylinux2014_x86_64.whl (56.3 MB)\n",
            "\u001b[2K   \u001b[90m━━━━━━━━━━━━━━━━━━━━━━━━━━━━━━━━━━━━━━━━\u001b[0m \u001b[32m56.3/56.3 MB\u001b[0m \u001b[31m13.0 MB/s\u001b[0m eta \u001b[36m0:00:00\u001b[0m\n",
            "\u001b[?25hDownloading nvidia_cusolver_cu12-11.6.1.9-py3-none-manylinux2014_x86_64.whl (127.9 MB)\n",
            "\u001b[2K   \u001b[90m━━━━━━━━━━━━━━━━━━━━━━━━━━━━━━━━━━━━━━━━\u001b[0m \u001b[32m127.9/127.9 MB\u001b[0m \u001b[31m7.5 MB/s\u001b[0m eta \u001b[36m0:00:00\u001b[0m\n",
            "\u001b[?25hDownloading nvidia_cusparse_cu12-12.3.1.170-py3-none-manylinux2014_x86_64.whl (207.5 MB)\n",
            "\u001b[2K   \u001b[90m━━━━━━━━━━━━━━━━━━━━━━━━━━━━━━━━━━━━━━━━\u001b[0m \u001b[32m207.5/207.5 MB\u001b[0m \u001b[31m5.5 MB/s\u001b[0m eta \u001b[36m0:00:00\u001b[0m\n",
            "\u001b[?25hDownloading nvidia_nvjitlink_cu12-12.4.127-py3-none-manylinux2014_x86_64.whl (21.1 MB)\n",
            "\u001b[2K   \u001b[90m━━━━━━━━━━━━━━━━━━━━━━━━━━━━━━━━━━━━━━━━\u001b[0m \u001b[32m21.1/21.1 MB\u001b[0m \u001b[31m44.0 MB/s\u001b[0m eta \u001b[36m0:00:00\u001b[0m\n",
            "\u001b[?25hInstalling collected packages: nvidia-nvjitlink-cu12, nvidia-curand-cu12, nvidia-cufft-cu12, nvidia-cuda-runtime-cu12, nvidia-cuda-nvrtc-cu12, nvidia-cuda-cupti-cu12, nvidia-cublas-cu12, lightning-utilities, nvidia-cusparse-cu12, nvidia-cudnn-cu12, nvidia-cusolver-cu12, torchmetrics\n",
            "  Attempting uninstall: nvidia-nvjitlink-cu12\n",
            "    Found existing installation: nvidia-nvjitlink-cu12 12.5.82\n",
            "    Uninstalling nvidia-nvjitlink-cu12-12.5.82:\n",
            "      Successfully uninstalled nvidia-nvjitlink-cu12-12.5.82\n",
            "  Attempting uninstall: nvidia-curand-cu12\n",
            "    Found existing installation: nvidia-curand-cu12 10.3.6.82\n",
            "    Uninstalling nvidia-curand-cu12-10.3.6.82:\n",
            "      Successfully uninstalled nvidia-curand-cu12-10.3.6.82\n",
            "  Attempting uninstall: nvidia-cufft-cu12\n",
            "    Found existing installation: nvidia-cufft-cu12 11.2.3.61\n",
            "    Uninstalling nvidia-cufft-cu12-11.2.3.61:\n",
            "      Successfully uninstalled nvidia-cufft-cu12-11.2.3.61\n",
            "  Attempting uninstall: nvidia-cuda-runtime-cu12\n",
            "    Found existing installation: nvidia-cuda-runtime-cu12 12.5.82\n",
            "    Uninstalling nvidia-cuda-runtime-cu12-12.5.82:\n",
            "      Successfully uninstalled nvidia-cuda-runtime-cu12-12.5.82\n",
            "  Attempting uninstall: nvidia-cuda-nvrtc-cu12\n",
            "    Found existing installation: nvidia-cuda-nvrtc-cu12 12.5.82\n",
            "    Uninstalling nvidia-cuda-nvrtc-cu12-12.5.82:\n",
            "      Successfully uninstalled nvidia-cuda-nvrtc-cu12-12.5.82\n",
            "  Attempting uninstall: nvidia-cuda-cupti-cu12\n",
            "    Found existing installation: nvidia-cuda-cupti-cu12 12.5.82\n",
            "    Uninstalling nvidia-cuda-cupti-cu12-12.5.82:\n",
            "      Successfully uninstalled nvidia-cuda-cupti-cu12-12.5.82\n",
            "  Attempting uninstall: nvidia-cublas-cu12\n",
            "    Found existing installation: nvidia-cublas-cu12 12.5.3.2\n",
            "    Uninstalling nvidia-cublas-cu12-12.5.3.2:\n",
            "      Successfully uninstalled nvidia-cublas-cu12-12.5.3.2\n",
            "  Attempting uninstall: nvidia-cusparse-cu12\n",
            "    Found existing installation: nvidia-cusparse-cu12 12.5.1.3\n",
            "    Uninstalling nvidia-cusparse-cu12-12.5.1.3:\n",
            "      Successfully uninstalled nvidia-cusparse-cu12-12.5.1.3\n",
            "  Attempting uninstall: nvidia-cudnn-cu12\n",
            "    Found existing installation: nvidia-cudnn-cu12 9.3.0.75\n",
            "    Uninstalling nvidia-cudnn-cu12-9.3.0.75:\n",
            "      Successfully uninstalled nvidia-cudnn-cu12-9.3.0.75\n",
            "  Attempting uninstall: nvidia-cusolver-cu12\n",
            "    Found existing installation: nvidia-cusolver-cu12 11.6.3.83\n",
            "    Uninstalling nvidia-cusolver-cu12-11.6.3.83:\n",
            "      Successfully uninstalled nvidia-cusolver-cu12-11.6.3.83\n",
            "Successfully installed lightning-utilities-0.14.3 nvidia-cublas-cu12-12.4.5.8 nvidia-cuda-cupti-cu12-12.4.127 nvidia-cuda-nvrtc-cu12-12.4.127 nvidia-cuda-runtime-cu12-12.4.127 nvidia-cudnn-cu12-9.1.0.70 nvidia-cufft-cu12-11.2.1.3 nvidia-curand-cu12-10.3.5.147 nvidia-cusolver-cu12-11.6.1.9 nvidia-cusparse-cu12-12.3.1.170 nvidia-nvjitlink-cu12-12.4.127 torchmetrics-1.7.1\n"
          ]
        }
      ]
    },
    {
      "cell_type": "code",
      "execution_count": 2,
      "metadata": {
        "id": "GCMQo9Pf2pZi"
      },
      "outputs": [],
      "source": [
        "import torch\n",
        "from torchvision import datasets, transforms\n",
        "from torch.utils.data import DataLoader\n",
        "\n",
        "import torch.nn as nn\n",
        "\n",
        "import matplotlib.pyplot as plt\n",
        "\n",
        "import random\n",
        "\n",
        "from tqdm import tqdm\n",
        "\n",
        "from sklearn.metrics import accuracy_score\n",
        "from torchmetrics.classification import MulticlassCalibrationError\n",
        "import torch.nn.functional as F\n",
        "\n",
        "import warnings\n",
        "from typing import Iterable, Union, Tuple, Callable, Dict\n",
        "import logging\n",
        "\n",
        "from torch.nn.utils import parameters_to_vector, vector_to_parameters\n"
      ]
    },
    {
      "cell_type": "markdown",
      "source": [
        "## Hyper-parameters"
      ],
      "metadata": {
        "id": "Ci56jgDp5EWJ"
      }
    },
    {
      "cell_type": "code",
      "source": [
        "batch_szie = 16\n",
        "MNIST_size = 28\n",
        "\n",
        "lr = 0.001\n",
        "device = torch.device(\"cuda\" if torch.cuda.is_available() else \"cpu\")\n",
        "device"
      ],
      "metadata": {
        "id": "ljVneuUJ5DYN",
        "colab": {
          "base_uri": "https://localhost:8080/"
        },
        "outputId": "dcf5b5b5-81df-4481-81ce-f3ffa69eee11"
      },
      "execution_count": 3,
      "outputs": [
        {
          "output_type": "execute_result",
          "data": {
            "text/plain": [
              "device(type='cuda')"
            ]
          },
          "metadata": {},
          "execution_count": 3
        }
      ]
    },
    {
      "cell_type": "markdown",
      "source": [
        "## Dataset preporation"
      ],
      "metadata": {
        "id": "11HXMZBN4cZA"
      }
    },
    {
      "cell_type": "code",
      "source": [
        "transform = transforms.Compose([\n",
        "    transforms.ToTensor()\n",
        "])\n",
        "\n",
        "train_dataset = datasets.MNIST(\n",
        "    root='./data',\n",
        "    train=True,\n",
        "    download=True,\n",
        "    transform=transform\n",
        ")\n",
        "\n",
        "test_dataset = datasets.MNIST(\n",
        "    root='./data',\n",
        "    train=False,\n",
        "    download=True,\n",
        "    transform=transform\n",
        ")"
      ],
      "metadata": {
        "id": "L7-5PVqz4ZuY",
        "colab": {
          "base_uri": "https://localhost:8080/"
        },
        "outputId": "b668c3c8-7bae-434d-9a61-42415f5e257b"
      },
      "execution_count": 4,
      "outputs": [
        {
          "output_type": "stream",
          "name": "stderr",
          "text": [
            "100%|██████████| 9.91M/9.91M [00:00<00:00, 16.2MB/s]\n",
            "100%|██████████| 28.9k/28.9k [00:00<00:00, 484kB/s]\n",
            "100%|██████████| 1.65M/1.65M [00:00<00:00, 4.38MB/s]\n",
            "100%|██████████| 4.54k/4.54k [00:00<00:00, 1.68MB/s]\n"
          ]
        }
      ]
    },
    {
      "cell_type": "code",
      "source": [
        "train_loader = DataLoader(train_dataset, batch_size=batch_szie, shuffle=True)\n",
        "test_loader = DataLoader(test_dataset, batch_size=batch_szie, shuffle=False)"
      ],
      "metadata": {
        "id": "XK96xkZR4zG2"
      },
      "execution_count": 5,
      "outputs": []
    },
    {
      "cell_type": "code",
      "source": [
        "def show_sample(dataset):\n",
        "  index = random.randint(0, len(dataset) - 1)\n",
        "  plt.imshow(dataset.data[index], cmap='gray')\n",
        "\n",
        "def get_sample(dataset):\n",
        "  index = random.randint(0, len(dataset) - 1)\n",
        "  return dataset.data[index].view(1, -1).float()\n",
        "\n",
        "get_sample(train_dataset).size()"
      ],
      "metadata": {
        "colab": {
          "base_uri": "https://localhost:8080/"
        },
        "id": "qefi6DD1_4cW",
        "outputId": "c8b00d7f-1c0e-4f36-edac-fc5277793422"
      },
      "execution_count": 6,
      "outputs": [
        {
          "output_type": "execute_result",
          "data": {
            "text/plain": [
              "torch.Size([1, 784])"
            ]
          },
          "metadata": {},
          "execution_count": 6
        }
      ]
    },
    {
      "cell_type": "code",
      "source": [
        "show_sample(train_dataset)"
      ],
      "metadata": {
        "colab": {
          "base_uri": "https://localhost:8080/",
          "height": 430
        },
        "id": "q0f-vaRJA6h8",
        "outputId": "619a9145-caed-4934-8ae5-3371b41f6083"
      },
      "execution_count": 7,
      "outputs": [
        {
          "output_type": "display_data",
          "data": {
            "text/plain": [
              "<Figure size 640x480 with 1 Axes>"
            ],
            "image/png": "[encoded data removed]"
          },
          "metadata": {}
        }
      ]
    },
    {
      "cell_type": "markdown",
      "source": [
        "## Models"
      ],
      "metadata": {
        "id": "v9KukSG_6Qjd"
      }
    },
    {
      "cell_type": "markdown",
      "source": [
        "### Model's weights update functions"
      ],
      "metadata": {
        "id": "Em0kab5kzc1C"
      }
    },
    {
      "cell_type": "code",
      "source": [
        "import torch\n",
        "import logging\n",
        "from typing import Dict\n",
        "\n",
        "StateDict = Dict[str, torch.Tensor]\n",
        "\n",
        "def _are_shapes_compatible(shape1, shape2):\n",
        "    reversed_shape1 = reversed(shape1)\n",
        "    reversed_shape2 = reversed(shape2)\n",
        "    for dim1, dim2 in zip(reversed_shape1, reversed_shape2):\n",
        "        if dim1 != dim2:\n",
        "            return False\n",
        "    return True\n",
        "\n",
        "def _smart_reshape(tensor, desired_shape):\n",
        "    tensor_num_elements = tensor.numel()\n",
        "    desired_num_elements = torch.prod(torch.tensor(desired_shape)).item()\n",
        "    if _are_shapes_compatible(tensor.shape, desired_shape):\n",
        "        return tensor\n",
        "    elif tensor_num_elements == desired_num_elements:\n",
        "        return tensor.reshape(desired_shape)\n",
        "    elif tensor_num_elements > desired_num_elements:\n",
        "        extra_dim = tensor_num_elements // desired_num_elements\n",
        "        new_shape = (extra_dim,) + desired_shape\n",
        "        return tensor.reshape(new_shape)\n",
        "    else:\n",
        "        raise ValueError(\"The tensor has fewer elements than the desired shape.\")\n",
        "\n",
        "def load_partial_state_dict(\n",
        "    module,\n",
        "    state_dict: StateDict,\n",
        "    prev_state_dict: StateDict = {},\n",
        "    strict_shapes: bool = True,\n",
        "):\n",
        "    params_dict = dict(module.named_parameters())\n",
        "\n",
        "    for param_path, new_value in state_dict.items():\n",
        "        if param_path not in params_dict:\n",
        "            logging.warning(f\"[load_partial_state_dict] Parameter {param_path} not found in module.\")\n",
        "            continue\n",
        "\n",
        "        current_param = params_dict[param_path]\n",
        "        shape, new_shape = current_param.shape, new_value.shape\n",
        "\n",
        "        assert (strict_shapes and new_shape == shape) or (\n",
        "            not strict_shapes and (\n",
        "                new_shape.numel() == shape.numel()\n",
        "                or _are_shapes_compatible(new_shape, shape)\n",
        "            )\n",
        "        ), f\"param_path={param_path} shape={new_shape} current shape={shape}\"\n",
        "\n",
        "        prev_state_dict[param_path] = current_param\n",
        "\n",
        "        module_path, param_name = param_path.rsplit(\".\", 1) if \".\" in param_path else (\"\", param_path)\n",
        "        parent_module = module\n",
        "        if module_path:\n",
        "            for name in module_path.split(\".\"):\n",
        "                parent_module = parent_module._modules[name]\n",
        "\n",
        "        parent_module._parameters[param_name] = (\n",
        "            new_value if new_shape == shape else _smart_reshape(new_value, shape)\n",
        "        )\n",
        "\n",
        "    return module\n",
        "\n",
        "def load_state_dict(\n",
        "    module,\n",
        "    state_dict: StateDict,\n",
        "    path=\"\",\n",
        "    prev_state_dict: StateDict = {},\n",
        "    strict_shapes: bool = True,\n",
        "):\n",
        "    if len(state_dict) < 0.25 * len(list(module.parameters())):\n",
        "        return load_partial_state_dict(\n",
        "            module,\n",
        "            state_dict,\n",
        "            prev_state_dict=prev_state_dict,\n",
        "            strict_shapes=strict_shapes,\n",
        "        )\n",
        "\n",
        "    for name, m in module._modules.items():\n",
        "        load_state_dict(\n",
        "            m,\n",
        "            state_dict,\n",
        "            path=f\"{path}.{name}\",\n",
        "            prev_state_dict=prev_state_dict,\n",
        "            strict_shapes=strict_shapes,\n",
        "        )\n",
        "\n",
        "    for name in module._parameters.keys():\n",
        "        sample_path = f\"{path}.{name}\"[1:]  # remove leading dot\n",
        "\n",
        "        if sample_path not in state_dict:\n",
        "            continue\n",
        "        new_value = state_dict[sample_path]\n",
        "        shape, new_shape = module._parameters[name].shape, new_value.shape\n",
        "\n",
        "        assert (strict_shapes and new_shape == shape) or (\n",
        "            not strict_shapes and (\n",
        "                new_shape.numel() == shape.numel()\n",
        "                or _are_shapes_compatible(new_shape, shape)\n",
        "            )\n",
        "        ), f\"sample_path={sample_path} shape={new_shape} current shape={shape}\"\n",
        "\n",
        "        prev_state_dict[sample_path] = module._parameters[name]\n",
        "        module._parameters[name] = (\n",
        "            new_value if new_shape == shape else _smart_reshape(new_value, shape)\n",
        "        )\n",
        "\n",
        "    return module\n",
        "\n",
        "def vector_to_named_state_dict(model, vector):\n",
        "    state_dict = {}\n",
        "    offset = 0\n",
        "    for name, param in model.named_parameters():\n",
        "        numel = param.numel()\n",
        "        shape = param.shape\n",
        "        chunk = vector[0, offset:offset + numel].view(shape)\n",
        "        state_dict[name] = chunk\n",
        "        offset += numel\n",
        "    return state_dict"
      ],
      "metadata": {
        "id": "YABG_Eq8YQQm"
      },
      "execution_count": 8,
      "outputs": []
    },
    {
      "cell_type": "markdown",
      "source": [
        "### Base model"
      ],
      "metadata": {
        "id": "Mk8gT8XbHu9D"
      }
    },
    {
      "cell_type": "code",
      "source": [
        "class OneLayerModel(nn.Module):\n",
        "    def __init__(self, input_dim, classes_num, dropout_rate=0.5) -> None:\n",
        "        self.input_dim = input_dim\n",
        "        self.classes_num = classes_num\n",
        "        super(OneLayerModel, self).__init__()\n",
        "        self.linear = nn.Linear(input_dim, classes_num, bias=False)\n",
        "        self.dropout = nn.Dropout(p=dropout_rate) if dropout_rate else None\n",
        "\n",
        "    def forward(self, x):\n",
        "        x = x.view(x.size(0), -1)\n",
        "        if self.dropout:\n",
        "          x = self.dropout(x)\n",
        "        return self.linear(x)\n"
      ],
      "metadata": {
        "id": "tAWy0mnV6Gtp"
      },
      "execution_count": 9,
      "outputs": []
    },
    {
      "cell_type": "code",
      "source": [
        "base_model = OneLayerModel(MNIST_size * MNIST_size, 10)"
      ],
      "metadata": {
        "id": "NQ3-fKauBD4o"
      },
      "execution_count": 10,
      "outputs": []
    },
    {
      "cell_type": "code",
      "source": [
        "def train_classic(model, train_loader, test_loader, num_epochs=10, lr=1e-3, device='cpu'):\n",
        "    model = model.to(device)\n",
        "    criterion = nn.CrossEntropyLoss()\n",
        "    optimizer = torch.optim.Adam(model.parameters(), lr=lr)\n",
        "\n",
        "    train_accuracies = []\n",
        "    test_accuracies = []\n",
        "    train_losses = []\n",
        "    eval_losses = []\n",
        "    ece_scores = []\n",
        "\n",
        "    for epoch in range(1, num_epochs + 1):\n",
        "        model.train()\n",
        "        total_loss = 0\n",
        "        correct = 0\n",
        "        total = 0\n",
        "\n",
        "        for inputs, labels in tqdm(train_loader, desc=f\"Epoch {epoch}\"):\n",
        "            inputs, labels = inputs.to(device), labels.to(device)\n",
        "\n",
        "            optimizer.zero_grad()\n",
        "            outputs = model(inputs)\n",
        "            loss = criterion(outputs, labels)\n",
        "            loss.backward()\n",
        "            optimizer.step()\n",
        "\n",
        "            total_loss += loss.item()\n",
        "            preds = outputs.argmax(dim=1)\n",
        "            correct += (preds == labels).sum().item()\n",
        "            total += labels.size(0)\n",
        "\n",
        "        train_acc = correct / total\n",
        "        avg_loss = total_loss / len(train_loader)\n",
        "        train_accuracies.append(train_acc)\n",
        "        train_losses.append(avg_loss)\n",
        "\n",
        "        # Evaluation\n",
        "        model.eval()\n",
        "        correct = 0\n",
        "        total = 0\n",
        "        eval_loss_total = 0\n",
        "        all_preds = []\n",
        "        all_labels = []\n",
        "        all_probs = []\n",
        "\n",
        "        with torch.no_grad():\n",
        "            for inputs, labels in test_loader:\n",
        "                inputs, labels = inputs.to(device), labels.to(device)\n",
        "                outputs = model(inputs)\n",
        "                loss = criterion(outputs, labels)\n",
        "\n",
        "                probs = F.softmax(outputs, dim=1)\n",
        "                preds = probs.argmax(dim=1)\n",
        "\n",
        "                eval_loss_total += loss.item()\n",
        "                correct += (preds == labels).sum().item()\n",
        "                total += labels.size(0)\n",
        "\n",
        "                all_preds.extend(preds.cpu())\n",
        "                all_labels.extend(labels.cpu())\n",
        "                all_probs.append(probs.cpu())\n",
        "\n",
        "        eval_loss = eval_loss_total / len(test_loader)\n",
        "        test_acc = correct / total\n",
        "        all_probs_tensor = torch.cat(all_probs)\n",
        "        all_labels_tensor = torch.tensor(all_labels)\n",
        "\n",
        "        ece = MulticlassCalibrationError(num_classes=all_probs_tensor.shape[1], n_bins=15)\n",
        "        ece_score = ece(all_probs_tensor, all_labels_tensor).item()\n",
        "\n",
        "        eval_losses.append(eval_loss)\n",
        "        test_accuracies.append(test_acc)\n",
        "        ece_scores.append(ece_score)\n",
        "\n",
        "        print(f\"Epoch {epoch}: \"\n",
        "              f\"Train Loss={avg_loss:.4f}, Train Acc={train_acc:.4f} | \"\n",
        "              f\"Eval Loss={eval_loss:.4f}, Eval Acc={test_acc:.4f}, ECE={ece_score:.4f}\")\n",
        "\n",
        "    result = {\n",
        "        'train_losses': train_losses,\n",
        "        'eval_losses': eval_losses,\n",
        "        'train_accuracies': train_accuracies,\n",
        "        'eval_accuracies': test_accuracies,\n",
        "        'ece': ece_scores\n",
        "    }\n",
        "\n",
        "    return result"
      ],
      "metadata": {
        "id": "S3btq77Z5g3m"
      },
      "execution_count": 11,
      "outputs": []
    },
    {
      "cell_type": "code",
      "source": [
        "base_model_train_history = train_classic(base_model, train_loader, test_loader, device=device, num_epochs=20)"
      ],
      "metadata": {
        "id": "CTMb7Eke7H8r",
        "colab": {
          "base_uri": "https://localhost:8080/"
        },
        "outputId": "a22411f5-148f-4651-8ae5-85424aec0aec"
      },
      "execution_count": 12,
      "outputs": [
        {
          "output_type": "stream",
          "name": "stderr",
          "text": [
            "Epoch 1: 100%|██████████| 3750/3750 [00:19<00:00, 196.47it/s]\n"
          ]
        },
        {
          "output_type": "stream",
          "name": "stdout",
          "text": [
            "Epoch 1: Train Loss=0.5461, Train Acc=0.8465 | Eval Loss=0.3233, Eval Acc=0.9117, ECE=0.0487\n"
          ]
        },
        {
          "output_type": "stream",
          "name": "stderr",
          "text": [
            "Epoch 2: 100%|██████████| 3750/3750 [00:11<00:00, 336.58it/s]\n"
          ]
        },
        {
          "output_type": "stream",
          "name": "stdout",
          "text": [
            "Epoch 2: Train Loss=0.4372, Train Acc=0.8696 | Eval Loss=0.3050, Eval Acc=0.9154, ECE=0.0339\n"
          ]
        },
        {
          "output_type": "stream",
          "name": "stderr",
          "text": [
            "Epoch 3: 100%|██████████| 3750/3750 [00:11<00:00, 336.38it/s]\n"
          ]
        },
        {
          "output_type": "stream",
          "name": "stdout",
          "text": [
            "Epoch 3: Train Loss=0.4288, Train Acc=0.8735 | Eval Loss=0.3046, Eval Acc=0.9180, ECE=0.0334\n"
          ]
        },
        {
          "output_type": "stream",
          "name": "stderr",
          "text": [
            "Epoch 4: 100%|██████████| 3750/3750 [00:11<00:00, 336.68it/s]\n"
          ]
        },
        {
          "output_type": "stream",
          "name": "stdout",
          "text": [
            "Epoch 4: Train Loss=0.4274, Train Acc=0.8743 | Eval Loss=0.3029, Eval Acc=0.9176, ECE=0.0285\n"
          ]
        },
        {
          "output_type": "stream",
          "name": "stderr",
          "text": [
            "Epoch 5: 100%|██████████| 3750/3750 [00:11<00:00, 325.35it/s]\n"
          ]
        },
        {
          "output_type": "stream",
          "name": "stdout",
          "text": [
            "Epoch 5: Train Loss=0.4241, Train Acc=0.8767 | Eval Loss=0.3034, Eval Acc=0.9170, ECE=0.0249\n"
          ]
        },
        {
          "output_type": "stream",
          "name": "stderr",
          "text": [
            "Epoch 6: 100%|██████████| 3750/3750 [00:11<00:00, 335.21it/s]\n"
          ]
        },
        {
          "output_type": "stream",
          "name": "stdout",
          "text": [
            "Epoch 6: Train Loss=0.4221, Train Acc=0.8761 | Eval Loss=0.2991, Eval Acc=0.9182, ECE=0.0247\n"
          ]
        },
        {
          "output_type": "stream",
          "name": "stderr",
          "text": [
            "Epoch 7: 100%|██████████| 3750/3750 [00:11<00:00, 337.65it/s]\n"
          ]
        },
        {
          "output_type": "stream",
          "name": "stdout",
          "text": [
            "Epoch 7: Train Loss=0.4216, Train Acc=0.8778 | Eval Loss=0.2996, Eval Acc=0.9162, ECE=0.0202\n"
          ]
        },
        {
          "output_type": "stream",
          "name": "stderr",
          "text": [
            "Epoch 8: 100%|██████████| 3750/3750 [00:11<00:00, 339.13it/s]\n"
          ]
        },
        {
          "output_type": "stream",
          "name": "stdout",
          "text": [
            "Epoch 8: Train Loss=0.4209, Train Acc=0.8761 | Eval Loss=0.2992, Eval Acc=0.9160, ECE=0.0223\n"
          ]
        },
        {
          "output_type": "stream",
          "name": "stderr",
          "text": [
            "Epoch 9: 100%|██████████| 3750/3750 [00:11<00:00, 334.47it/s]\n"
          ]
        },
        {
          "output_type": "stream",
          "name": "stdout",
          "text": [
            "Epoch 9: Train Loss=0.4230, Train Acc=0.8762 | Eval Loss=0.2988, Eval Acc=0.9194, ECE=0.0247\n"
          ]
        },
        {
          "output_type": "stream",
          "name": "stderr",
          "text": [
            "Epoch 10: 100%|██████████| 3750/3750 [00:10<00:00, 342.77it/s]\n"
          ]
        },
        {
          "output_type": "stream",
          "name": "stdout",
          "text": [
            "Epoch 10: Train Loss=0.4179, Train Acc=0.8790 | Eval Loss=0.3017, Eval Acc=0.9166, ECE=0.0234\n"
          ]
        },
        {
          "output_type": "stream",
          "name": "stderr",
          "text": [
            "Epoch 11: 100%|██████████| 3750/3750 [00:10<00:00, 342.63it/s]\n"
          ]
        },
        {
          "output_type": "stream",
          "name": "stdout",
          "text": [
            "Epoch 11: Train Loss=0.4238, Train Acc=0.8767 | Eval Loss=0.3008, Eval Acc=0.9178, ECE=0.0240\n"
          ]
        },
        {
          "output_type": "stream",
          "name": "stderr",
          "text": [
            "Epoch 12: 100%|██████████| 3750/3750 [00:11<00:00, 338.14it/s]\n"
          ]
        },
        {
          "output_type": "stream",
          "name": "stdout",
          "text": [
            "Epoch 12: Train Loss=0.4216, Train Acc=0.8781 | Eval Loss=0.3024, Eval Acc=0.9176, ECE=0.0225\n"
          ]
        },
        {
          "output_type": "stream",
          "name": "stderr",
          "text": [
            "Epoch 13: 100%|██████████| 3750/3750 [00:11<00:00, 318.64it/s]\n"
          ]
        },
        {
          "output_type": "stream",
          "name": "stdout",
          "text": [
            "Epoch 13: Train Loss=0.4208, Train Acc=0.8768 | Eval Loss=0.2996, Eval Acc=0.9179, ECE=0.0234\n"
          ]
        },
        {
          "output_type": "stream",
          "name": "stderr",
          "text": [
            "Epoch 14: 100%|██████████| 3750/3750 [00:11<00:00, 332.79it/s]\n"
          ]
        },
        {
          "output_type": "stream",
          "name": "stdout",
          "text": [
            "Epoch 14: Train Loss=0.4197, Train Acc=0.8771 | Eval Loss=0.3036, Eval Acc=0.9177, ECE=0.0205\n"
          ]
        },
        {
          "output_type": "stream",
          "name": "stderr",
          "text": [
            "Epoch 15: 100%|██████████| 3750/3750 [00:11<00:00, 334.43it/s]\n"
          ]
        },
        {
          "output_type": "stream",
          "name": "stdout",
          "text": [
            "Epoch 15: Train Loss=0.4219, Train Acc=0.8772 | Eval Loss=0.3007, Eval Acc=0.9175, ECE=0.0215\n"
          ]
        },
        {
          "output_type": "stream",
          "name": "stderr",
          "text": [
            "Epoch 16: 100%|██████████| 3750/3750 [00:11<00:00, 336.74it/s]\n"
          ]
        },
        {
          "output_type": "stream",
          "name": "stdout",
          "text": [
            "Epoch 16: Train Loss=0.4226, Train Acc=0.8776 | Eval Loss=0.3003, Eval Acc=0.9178, ECE=0.0207\n"
          ]
        },
        {
          "output_type": "stream",
          "name": "stderr",
          "text": [
            "Epoch 17: 100%|██████████| 3750/3750 [00:11<00:00, 336.04it/s]\n"
          ]
        },
        {
          "output_type": "stream",
          "name": "stdout",
          "text": [
            "Epoch 17: Train Loss=0.4215, Train Acc=0.8773 | Eval Loss=0.2994, Eval Acc=0.9203, ECE=0.0255\n"
          ]
        },
        {
          "output_type": "stream",
          "name": "stderr",
          "text": [
            "Epoch 18: 100%|██████████| 3750/3750 [00:11<00:00, 334.68it/s]\n"
          ]
        },
        {
          "output_type": "stream",
          "name": "stdout",
          "text": [
            "Epoch 18: Train Loss=0.4192, Train Acc=0.8778 | Eval Loss=0.2994, Eval Acc=0.9199, ECE=0.0237\n"
          ]
        },
        {
          "output_type": "stream",
          "name": "stderr",
          "text": [
            "Epoch 19: 100%|██████████| 3750/3750 [00:11<00:00, 333.67it/s]\n"
          ]
        },
        {
          "output_type": "stream",
          "name": "stdout",
          "text": [
            "Epoch 19: Train Loss=0.4209, Train Acc=0.8780 | Eval Loss=0.3020, Eval Acc=0.9189, ECE=0.0211\n"
          ]
        },
        {
          "output_type": "stream",
          "name": "stderr",
          "text": [
            "Epoch 20: 100%|██████████| 3750/3750 [00:11<00:00, 333.72it/s]\n"
          ]
        },
        {
          "output_type": "stream",
          "name": "stdout",
          "text": [
            "Epoch 20: Train Loss=0.4192, Train Acc=0.8802 | Eval Loss=0.3046, Eval Acc=0.9173, ECE=0.0208\n"
          ]
        }
      ]
    },
    {
      "cell_type": "markdown",
      "source": [
        "### Meta model"
      ],
      "metadata": {
        "id": "U8u603f8HzL7"
      }
    },
    {
      "cell_type": "code",
      "source": [
        "class MetaModelWithTwoLayers(nn.Module):\n",
        "  def __init__(self, input_dim, hidden_dim, output_dim=None):\n",
        "    if not output_dim:\n",
        "      output_dim = input_dim\n",
        "    super(MetaModelWithTwoLayers, self).__init__()\n",
        "    self.linear1 = nn.Linear(input_dim, hidden_dim)\n",
        "    self.linear2 = nn.Linear(hidden_dim, hidden_dim)\n",
        "    self.linear3 = nn.Linear(hidden_dim, output_dim)\n",
        "    self.activation_fn = nn.ReLU()\n",
        "\n",
        "  def forward(self, x):\n",
        "    output = self.activation_fn(self.linear1(x))\n",
        "    output = self.activation_fn(self.linear2(output))\n",
        "    output = (self.linear3(output))\n",
        "\n",
        "    return output"
      ],
      "metadata": {
        "id": "MQXRMKoz_sty"
      },
      "execution_count": 13,
      "outputs": []
    },
    {
      "cell_type": "code",
      "source": [
        "base_model_blank = OneLayerModel(MNIST_size * MNIST_size, 10, dropout_rate=None)\n",
        "\n",
        "ONE_LAYER_MODEL_PARAMETERS_SIZE = sum(p.numel() for p in base_model_blank.parameters() if p.requires_grad)\n",
        "print(ONE_LAYER_MODEL_PARAMETERS_SIZE)\n",
        "HIDDEN_LAYER_SIZE = int(ONE_LAYER_MODEL_PARAMETERS_SIZE / 4 * 3)\n",
        "print(HIDDEN_LAYER_SIZE)"
      ],
      "metadata": {
        "id": "bgzU-HCuGQR_",
        "colab": {
          "base_uri": "https://localhost:8080/"
        },
        "outputId": "422cb47b-0318-418b-c54f-f3a8068d90c1"
      },
      "execution_count": 14,
      "outputs": [
        {
          "output_type": "stream",
          "name": "stdout",
          "text": [
            "7840\n",
            "5880\n"
          ]
        }
      ]
    },
    {
      "cell_type": "code",
      "source": [
        "meta_model = MetaModelWithTwoLayers(ONE_LAYER_MODEL_PARAMETERS_SIZE, HIDDEN_LAYER_SIZE)"
      ],
      "metadata": {
        "id": "nyi5md8KCkZE"
      },
      "execution_count": 57,
      "outputs": []
    },
    {
      "cell_type": "markdown",
      "source": [
        "### Train and evaluate loop"
      ],
      "metadata": {
        "id": "EpRDtB1-IHmf"
      }
    },
    {
      "cell_type": "code",
      "source": [
        "criterion = nn.CrossEntropyLoss()\n",
        "optimizer = torch.optim.SGD(params = meta_model.parameters(), lr=0.0003)"
      ],
      "metadata": {
        "id": "CKtOg7LPISUF"
      },
      "execution_count": 58,
      "outputs": []
    },
    {
      "cell_type": "code",
      "source": [
        "def random_half_mask_generation(size):\n",
        "    num_ones = size // 2\n",
        "    num_zeros = size - num_ones\n",
        "    mask = torch.cat([torch.ones(num_ones), torch.zeros(num_zeros)])\n",
        "    return mask[torch.randperm(size)]\n",
        "\n",
        "def generate_noise_vector(size):\n",
        "    mask = random_half_mask_generation(size)\n",
        "    return (mask * torch.randn(size)).view(1, -1)\n",
        "\n",
        "def extract_new_weights(meta_output, meta_input):\n",
        "    mask = (meta_input == 0)\n",
        "    return torch.where(mask, meta_output, meta_input)\n",
        "\n",
        "def train_epoch(meta_model, base_model, criterion, optimizer, train_loader, device):\n",
        "    loss_by_epoch = []\n",
        "    all_preds = []\n",
        "    all_labels = []\n",
        "\n",
        "    for batch in tqdm(train_loader):\n",
        "        optimizer.zero_grad()\n",
        "        inputs, labels = batch\n",
        "        inputs = inputs.to(device)\n",
        "        labels = labels.to(device)\n",
        "\n",
        "        parameters = parameters_to_vector(base_model.parameters()).to(device)\n",
        "        meta_model_input = generate_noise_vector(parameters.numel()).to(device)\n",
        "        new_weights = extract_new_weights(meta_model(meta_model_input), meta_model_input).to(device)\n",
        "\n",
        "        new_weights_dict = vector_to_named_state_dict(base_model, new_weights)\n",
        "        load_state_dict(base_model, new_weights_dict)\n",
        "\n",
        "        outputs = base_model(inputs)\n",
        "        loss = criterion(outputs, labels)\n",
        "        loss_by_epoch.append(loss.item())\n",
        "\n",
        "        preds = outputs.argmax(dim=1).cpu().numpy()\n",
        "        all_preds.extend(preds)\n",
        "        all_labels.extend(labels.cpu().numpy())\n",
        "\n",
        "        loss.backward()\n",
        "        optimizer.step()\n",
        "\n",
        "    res = {\n",
        "        'loss': sum(loss_by_epoch) / len(loss_by_epoch),\n",
        "        'acc': accuracy_score(all_labels, all_preds),\n",
        "    }\n",
        "    return res\n",
        "\n",
        "\n",
        "def generate_new_model(new_weights, input_dim, classes_num):\n",
        "    model = OneLayerModel(input_dim, classes_num, dropout_rate=None)\n",
        "    new_weights_dict = vector_to_named_state_dict(model, new_weights)\n",
        "    load_state_dict(model, new_weights_dict)\n",
        "    return model\n",
        "\n",
        "\n",
        "def get_ensemble(meta_model, base_model, device, num_models):\n",
        "    ensemble = []\n",
        "    param_size = parameters_to_vector(base_model.parameters()).numel()\n",
        "    for _ in range(num_models):\n",
        "        meta_model_input = generate_noise_vector(param_size).to(device)\n",
        "        new_weights = extract_new_weights(meta_model(meta_model_input), meta_model_input).to(device)\n",
        "        model = generate_new_model(new_weights, base_model.input_dim, base_model.classes_num).to(device)\n",
        "        model.eval()\n",
        "        ensemble.append(model)\n",
        "    return ensemble\n",
        "\n",
        "\n",
        "def get_ensemble_results(ensemble, inputs):\n",
        "    logits = torch.stack([model(inputs) for model in ensemble])\n",
        "\n",
        "    probs = torch.softmax(logits, dim=2)\n",
        "    mean_probs = torch.mean(probs, dim=0)\n",
        "    var_probs = torch.var(probs, dim=0)\n",
        "\n",
        "    return mean_probs, var_probs, logits.mean(dim=0)\n",
        "\n",
        "def eval_epoch(meta_model, base_model, criterion, eval_loader, device, number_of_models_in_ensemble=10):\n",
        "    loss_by_epoch = []\n",
        "    all_preds = []\n",
        "    all_labels = []\n",
        "    all_probs = []\n",
        "    all_var_probs = []\n",
        "\n",
        "    ensemble = get_ensemble(meta_model, base_model, device, number_of_models_in_ensemble)\n",
        "\n",
        "    for batch in tqdm(eval_loader):\n",
        "        inputs, labels = batch\n",
        "        inputs = inputs.to(device)\n",
        "        labels = labels.to(device)\n",
        "\n",
        "        with torch.no_grad():\n",
        "            mean_probs, var_probs, logits = get_ensemble_results(ensemble, inputs)\n",
        "            loss = criterion(logits, labels)\n",
        "\n",
        "        loss_by_epoch.append(loss.item())\n",
        "        preds = mean_probs.argmax(dim=1).cpu().numpy()\n",
        "        all_preds.extend(preds)\n",
        "        all_labels.extend(labels.cpu().numpy())\n",
        "        all_probs.append(mean_probs.cpu())\n",
        "        all_var_probs.append(var_probs.cpu())\n",
        "\n",
        "    all_probs_tensor = torch.cat(all_probs, dim=0)\n",
        "    all_var_tensor = torch.cat(all_var_probs, dim=0)\n",
        "    all_labels_tensor = torch.tensor(all_labels)\n",
        "\n",
        "    ece = MulticlassCalibrationError(num_classes=all_probs_tensor.size(1), n_bins=15)\n",
        "    ece_score = ece(all_probs_tensor, all_labels_tensor).item()\n",
        "\n",
        "    res = {\n",
        "        'loss': sum(loss_by_epoch) / len(loss_by_epoch),\n",
        "        'acc': accuracy_score(all_labels, all_preds),\n",
        "        'ece': ece_score,\n",
        "        'mean_variance': all_var_tensor.mean().item(),\n",
        "    }\n",
        "\n",
        "    return res"
      ],
      "metadata": {
        "id": "-0oJ8MQXIzHN"
      },
      "execution_count": 59,
      "outputs": []
    },
    {
      "cell_type": "code",
      "source": [
        "def train_and_eval(num_epochs, meta_model, base_model, criterion, optimizer, train_loader, eval_loader, device='cpu'):\n",
        "    meta_model.to(device)\n",
        "    base_model.to(device)\n",
        "    base_model.eval()\n",
        "    train_losses, eval_losses = [], []\n",
        "    train_accuracies, eval_accuracies = [], []\n",
        "    eval_var = []\n",
        "    ece = []\n",
        "\n",
        "    for epoch in range(1, num_epochs + 1):\n",
        "        meta_model.train()\n",
        "        results = train_epoch(meta_model, base_model, criterion, optimizer, train_loader, device)\n",
        "        train_loss, train_acc, = results['loss'], results['acc']\n",
        "        train_losses.append(train_loss)\n",
        "        train_accuracies.append(train_acc)\n",
        "\n",
        "        meta_model.eval()\n",
        "        results = eval_epoch(meta_model, base_model, criterion, eval_loader, device)\n",
        "        eval_loss, eval_acc, eval_ece, eval_mean_var = results['loss'], results['acc'], results['ece'], results['mean_variance']\n",
        "        eval_losses.append(eval_loss)\n",
        "        eval_accuracies.append(eval_acc)\n",
        "        eval_var.append(eval_mean_var)\n",
        "        ece.append(eval_ece)\n",
        "\n",
        "        print(f\"Epoch {epoch}: Train Loss={train_loss:.4f}, Acc={train_acc:.4f} | Eval Loss={eval_loss:.4f}, Acc={eval_acc:.4f}, Ece={eval_ece:.4f}\")\n",
        "\n",
        "    res = {\n",
        "        'train_losses': train_losses,\n",
        "        'eval_losses': eval_losses,\n",
        "        'train_accuracies': train_accuracies,\n",
        "        'eval_accuracies' : eval_accuracies,\n",
        "        'eval_var': eval_var,\n",
        "        'ece': ece\n",
        "    }\n",
        "\n",
        "    return res\n",
        "\n",
        "def compare_train_results(ensamble_res, base_res=None):\n",
        "    ensamble_train_losses = ensamble_res['train_losses']\n",
        "    ensamble_eval_losses = ensamble_res['eval_losses']\n",
        "    ensamble_train_accuracies = ensamble_res['train_accuracies']\n",
        "    ensamble_eval_accuracies = ensamble_res['eval_accuracies']\n",
        "    ensamble_ece = ensamble_res['ece']\n",
        "\n",
        "    base_train_losses, base_eval_losses = [], []\n",
        "    base_train_accuracies, base_eval_accuracies = [], []\n",
        "    base_ece = []\n",
        "\n",
        "    if base_res:\n",
        "        base_train_losses = base_res['train_losses']\n",
        "        base_eval_losses = base_res['eval_losses']\n",
        "        base_train_accuracies = base_res['train_accuracies']\n",
        "        base_eval_accuracies = base_res['eval_accuracies']\n",
        "        base_ece = base_res['ece']\n",
        "\n",
        "    fig, axs = plt.subplots(2, 3, figsize=(18, 8))\n",
        "\n",
        "    axs[0, 0].plot(ensamble_train_losses, c='r', label='Train Loss ensamble')\n",
        "    axs[0, 0].plot(ensamble_eval_losses, c='b', label='Eval Loss ensamble')\n",
        "    if base_res:\n",
        "        axs[0, 0].plot(base_eval_losses, c='g', label='Eval Loss base')\n",
        "    axs[0, 0].set_title(\"Loss\")\n",
        "    axs[0, 0].legend()\n",
        "\n",
        "    axs[0, 1].plot(ensamble_train_accuracies, c='r', label='Train Acc ensamble')\n",
        "    axs[0, 1].plot(ensamble_eval_accuracies, c='b', label='Eval Acc ensamble')\n",
        "    if base_res:\n",
        "        axs[0, 1].plot(base_eval_accuracies, c='g', label='Eval Acc base')\n",
        "    axs[0, 1].set_title(\"Accuracy\")\n",
        "    axs[0, 1].legend()\n",
        "\n",
        "    axs[0, 2].plot(ensamble_ece, c='b', label='Eval Ece ensamble')\n",
        "    if base_res:\n",
        "        axs[0, 2].plot(base_ece, c='g', label='Eval Ece base')\n",
        "    axs[0, 2].set_title(\"ECE\")\n",
        "    axs[0, 2].legend()\n",
        "\n",
        "    axs[1, 0].plot(ensamble_res['eval_var'], c='b', label='Variance ensamble')\n",
        "    axs[1, 0].set_title(\"Variance\")\n",
        "    axs[1, 0].legend()\n",
        "\n",
        "\n",
        "    fig.delaxes(axs[1, 1])\n",
        "    fig.delaxes(axs[1, 2])\n",
        "    plt.tight_layout()\n",
        "    plt.show()"
      ],
      "metadata": {
        "id": "TAoymO94Jga2"
      },
      "execution_count": 60,
      "outputs": []
    },
    {
      "cell_type": "code",
      "source": [
        "ensamble_train_history = train_and_eval(20, meta_model, base_model_blank, criterion, optimizer, train_loader, test_loader, device)\n"
      ],
      "metadata": {
        "id": "VjQxP4t7BndW",
        "colab": {
          "base_uri": "https://localhost:8080/"
        },
        "outputId": "cd3484ce-3ada-4681-9c40-deadd0dfd83d"
      },
      "execution_count": 61,
      "outputs": [
        {
          "output_type": "stream",
          "name": "stderr",
          "text": [
            "/usr/local/lib/python3.11/dist-packages/torch/nn/modules/module.py:938: UserWarning: The .grad attribute of a Tensor that is not a leaf Tensor is being accessed. Its .grad attribute won't be populated during autograd.backward(). If you indeed want the .grad field to be populated for a non-leaf Tensor, use .retain_grad() on the non-leaf Tensor. If you access the non-leaf Tensor by mistake, make sure you access the leaf Tensor instead. See github.com/pytorch/pytorch/pull/30531 for more informations. (Triggered internally at /pytorch/build/aten/src/ATen/core/TensorBody.h:489.)\n",
            "  param_grad = param.grad\n",
            "100%|██████████| 3750/3750 [00:49<00:00, 75.68it/s]\n",
            "/usr/local/lib/python3.11/dist-packages/torch/nn/modules/module.py:938: UserWarning: The .grad attribute of a Tensor that is not a leaf Tensor is being accessed. Its .grad attribute won't be populated during autograd.backward(). If you indeed want the .grad field to be populated for a non-leaf Tensor, use .retain_grad() on the non-leaf Tensor. If you access the non-leaf Tensor by mistake, make sure you access the leaf Tensor instead. See github.com/pytorch/pytorch/pull/30531 for more informations. (Triggered internally at /pytorch/build/aten/src/ATen/core/TensorBody.h:489.)\n",
            "  param_grad = param.grad\n",
            "100%|██████████| 625/625 [00:01<00:00, 320.23it/s]\n"
          ]
        },
        {
          "output_type": "stream",
          "name": "stdout",
          "text": [
            "Epoch 1: Train Loss=4.4032, Acc=0.5095 | Eval Loss=0.8430, Acc=0.8623, Ece=0.1159\n"
          ]
        },
        {
          "output_type": "stream",
          "name": "stderr",
          "text": [
            "100%|██████████| 3750/3750 [00:49<00:00, 75.82it/s]\n",
            "/usr/local/lib/python3.11/dist-packages/torch/nn/modules/module.py:938: UserWarning: The .grad attribute of a Tensor that is not a leaf Tensor is being accessed. Its .grad attribute won't be populated during autograd.backward(). If you indeed want the .grad field to be populated for a non-leaf Tensor, use .retain_grad() on the non-leaf Tensor. If you access the non-leaf Tensor by mistake, make sure you access the leaf Tensor instead. See github.com/pytorch/pytorch/pull/30531 for more informations. (Triggered internally at /pytorch/build/aten/src/ATen/core/TensorBody.h:489.)\n",
            "  param_grad = param.grad\n",
            "100%|██████████| 625/625 [00:01<00:00, 417.34it/s]\n"
          ]
        },
        {
          "output_type": "stream",
          "name": "stdout",
          "text": [
            "Epoch 2: Train Loss=2.4538, Acc=0.7333 | Eval Loss=0.8428, Acc=0.8878, Ece=0.0875\n"
          ]
        },
        {
          "output_type": "stream",
          "name": "stderr",
          "text": [
            "100%|██████████| 3750/3750 [00:49<00:00, 75.85it/s]\n",
            "/usr/local/lib/python3.11/dist-packages/torch/nn/modules/module.py:938: UserWarning: The .grad attribute of a Tensor that is not a leaf Tensor is being accessed. Its .grad attribute won't be populated during autograd.backward(). If you indeed want the .grad field to be populated for a non-leaf Tensor, use .retain_grad() on the non-leaf Tensor. If you access the non-leaf Tensor by mistake, make sure you access the leaf Tensor instead. See github.com/pytorch/pytorch/pull/30531 for more informations. (Triggered internally at /pytorch/build/aten/src/ATen/core/TensorBody.h:489.)\n",
            "  param_grad = param.grad\n",
            "100%|██████████| 625/625 [00:01<00:00, 404.56it/s]\n"
          ]
        },
        {
          "output_type": "stream",
          "name": "stdout",
          "text": [
            "Epoch 3: Train Loss=2.3000, Acc=0.7615 | Eval Loss=0.7907, Acc=0.8919, Ece=0.0871\n"
          ]
        },
        {
          "output_type": "stream",
          "name": "stderr",
          "text": [
            "100%|██████████| 3750/3750 [00:49<00:00, 75.79it/s]\n",
            "/usr/local/lib/python3.11/dist-packages/torch/nn/modules/module.py:938: UserWarning: The .grad attribute of a Tensor that is not a leaf Tensor is being accessed. Its .grad attribute won't be populated during autograd.backward(). If you indeed want the .grad field to be populated for a non-leaf Tensor, use .retain_grad() on the non-leaf Tensor. If you access the non-leaf Tensor by mistake, make sure you access the leaf Tensor instead. See github.com/pytorch/pytorch/pull/30531 for more informations. (Triggered internally at /pytorch/build/aten/src/ATen/core/TensorBody.h:489.)\n",
            "  param_grad = param.grad\n",
            "100%|██████████| 625/625 [00:01<00:00, 346.53it/s]\n"
          ]
        },
        {
          "output_type": "stream",
          "name": "stdout",
          "text": [
            "Epoch 4: Train Loss=2.2163, Acc=0.7730 | Eval Loss=0.8177, Acc=0.8833, Ece=0.0750\n"
          ]
        },
        {
          "output_type": "stream",
          "name": "stderr",
          "text": [
            "100%|██████████| 3750/3750 [00:49<00:00, 75.80it/s]\n",
            "/usr/local/lib/python3.11/dist-packages/torch/nn/modules/module.py:938: UserWarning: The .grad attribute of a Tensor that is not a leaf Tensor is being accessed. Its .grad attribute won't be populated during autograd.backward(). If you indeed want the .grad field to be populated for a non-leaf Tensor, use .retain_grad() on the non-leaf Tensor. If you access the non-leaf Tensor by mistake, make sure you access the leaf Tensor instead. See github.com/pytorch/pytorch/pull/30531 for more informations. (Triggered internally at /pytorch/build/aten/src/ATen/core/TensorBody.h:489.)\n",
            "  param_grad = param.grad\n",
            "100%|██████████| 625/625 [00:01<00:00, 313.75it/s]\n"
          ]
        },
        {
          "output_type": "stream",
          "name": "stdout",
          "text": [
            "Epoch 5: Train Loss=2.1958, Acc=0.7782 | Eval Loss=0.8590, Acc=0.8940, Ece=0.0872\n"
          ]
        },
        {
          "output_type": "stream",
          "name": "stderr",
          "text": [
            "100%|██████████| 3750/3750 [00:49<00:00, 75.86it/s]\n",
            "/usr/local/lib/python3.11/dist-packages/torch/nn/modules/module.py:938: UserWarning: The .grad attribute of a Tensor that is not a leaf Tensor is being accessed. Its .grad attribute won't be populated during autograd.backward(). If you indeed want the .grad field to be populated for a non-leaf Tensor, use .retain_grad() on the non-leaf Tensor. If you access the non-leaf Tensor by mistake, make sure you access the leaf Tensor instead. See github.com/pytorch/pytorch/pull/30531 for more informations. (Triggered internally at /pytorch/build/aten/src/ATen/core/TensorBody.h:489.)\n",
            "  param_grad = param.grad\n",
            "100%|██████████| 625/625 [00:01<00:00, 402.30it/s]\n"
          ]
        },
        {
          "output_type": "stream",
          "name": "stdout",
          "text": [
            "Epoch 6: Train Loss=2.1421, Acc=0.7837 | Eval Loss=0.8043, Acc=0.9004, Ece=0.0632\n"
          ]
        },
        {
          "output_type": "stream",
          "name": "stderr",
          "text": [
            "100%|██████████| 3750/3750 [00:49<00:00, 75.86it/s]\n",
            "/usr/local/lib/python3.11/dist-packages/torch/nn/modules/module.py:938: UserWarning: The .grad attribute of a Tensor that is not a leaf Tensor is being accessed. Its .grad attribute won't be populated during autograd.backward(). If you indeed want the .grad field to be populated for a non-leaf Tensor, use .retain_grad() on the non-leaf Tensor. If you access the non-leaf Tensor by mistake, make sure you access the leaf Tensor instead. See github.com/pytorch/pytorch/pull/30531 for more informations. (Triggered internally at /pytorch/build/aten/src/ATen/core/TensorBody.h:489.)\n",
            "  param_grad = param.grad\n",
            "100%|██████████| 625/625 [00:01<00:00, 413.27it/s]\n"
          ]
        },
        {
          "output_type": "stream",
          "name": "stdout",
          "text": [
            "Epoch 7: Train Loss=2.1153, Acc=0.7871 | Eval Loss=0.8612, Acc=0.8963, Ece=0.0671\n"
          ]
        },
        {
          "output_type": "stream",
          "name": "stderr",
          "text": [
            "100%|██████████| 3750/3750 [00:49<00:00, 75.70it/s]\n",
            "/usr/local/lib/python3.11/dist-packages/torch/nn/modules/module.py:938: UserWarning: The .grad attribute of a Tensor that is not a leaf Tensor is being accessed. Its .grad attribute won't be populated during autograd.backward(). If you indeed want the .grad field to be populated for a non-leaf Tensor, use .retain_grad() on the non-leaf Tensor. If you access the non-leaf Tensor by mistake, make sure you access the leaf Tensor instead. See github.com/pytorch/pytorch/pull/30531 for more informations. (Triggered internally at /pytorch/build/aten/src/ATen/core/TensorBody.h:489.)\n",
            "  param_grad = param.grad\n",
            "100%|██████████| 625/625 [00:01<00:00, 414.29it/s]\n"
          ]
        },
        {
          "output_type": "stream",
          "name": "stdout",
          "text": [
            "Epoch 8: Train Loss=2.0841, Acc=0.7893 | Eval Loss=0.8130, Acc=0.8998, Ece=0.0726\n"
          ]
        },
        {
          "output_type": "stream",
          "name": "stderr",
          "text": [
            "100%|██████████| 3750/3750 [00:49<00:00, 75.80it/s]\n",
            "/usr/local/lib/python3.11/dist-packages/torch/nn/modules/module.py:938: UserWarning: The .grad attribute of a Tensor that is not a leaf Tensor is being accessed. Its .grad attribute won't be populated during autograd.backward(). If you indeed want the .grad field to be populated for a non-leaf Tensor, use .retain_grad() on the non-leaf Tensor. If you access the non-leaf Tensor by mistake, make sure you access the leaf Tensor instead. See github.com/pytorch/pytorch/pull/30531 for more informations. (Triggered internally at /pytorch/build/aten/src/ATen/core/TensorBody.h:489.)\n",
            "  param_grad = param.grad\n",
            "100%|██████████| 625/625 [00:01<00:00, 331.94it/s]\n"
          ]
        },
        {
          "output_type": "stream",
          "name": "stdout",
          "text": [
            "Epoch 9: Train Loss=2.0999, Acc=0.7912 | Eval Loss=0.8730, Acc=0.8945, Ece=0.0641\n"
          ]
        },
        {
          "output_type": "stream",
          "name": "stderr",
          "text": [
            "100%|██████████| 3750/3750 [00:49<00:00, 75.83it/s]\n",
            "/usr/local/lib/python3.11/dist-packages/torch/nn/modules/module.py:938: UserWarning: The .grad attribute of a Tensor that is not a leaf Tensor is being accessed. Its .grad attribute won't be populated during autograd.backward(). If you indeed want the .grad field to be populated for a non-leaf Tensor, use .retain_grad() on the non-leaf Tensor. If you access the non-leaf Tensor by mistake, make sure you access the leaf Tensor instead. See github.com/pytorch/pytorch/pull/30531 for more informations. (Triggered internally at /pytorch/build/aten/src/ATen/core/TensorBody.h:489.)\n",
            "  param_grad = param.grad\n",
            "100%|██████████| 625/625 [00:01<00:00, 411.88it/s]\n"
          ]
        },
        {
          "output_type": "stream",
          "name": "stdout",
          "text": [
            "Epoch 10: Train Loss=2.0629, Acc=0.7918 | Eval Loss=0.8409, Acc=0.9006, Ece=0.0769\n"
          ]
        },
        {
          "output_type": "stream",
          "name": "stderr",
          "text": [
            "100%|██████████| 3750/3750 [00:49<00:00, 75.84it/s]\n",
            "/usr/local/lib/python3.11/dist-packages/torch/nn/modules/module.py:938: UserWarning: The .grad attribute of a Tensor that is not a leaf Tensor is being accessed. Its .grad attribute won't be populated during autograd.backward(). If you indeed want the .grad field to be populated for a non-leaf Tensor, use .retain_grad() on the non-leaf Tensor. If you access the non-leaf Tensor by mistake, make sure you access the leaf Tensor instead. See github.com/pytorch/pytorch/pull/30531 for more informations. (Triggered internally at /pytorch/build/aten/src/ATen/core/TensorBody.h:489.)\n",
            "  param_grad = param.grad\n",
            "100%|██████████| 625/625 [00:01<00:00, 334.46it/s]\n"
          ]
        },
        {
          "output_type": "stream",
          "name": "stdout",
          "text": [
            "Epoch 11: Train Loss=2.0535, Acc=0.7933 | Eval Loss=0.8460, Acc=0.9032, Ece=0.0615\n"
          ]
        },
        {
          "output_type": "stream",
          "name": "stderr",
          "text": [
            "100%|██████████| 3750/3750 [00:49<00:00, 75.90it/s]\n",
            "/usr/local/lib/python3.11/dist-packages/torch/nn/modules/module.py:938: UserWarning: The .grad attribute of a Tensor that is not a leaf Tensor is being accessed. Its .grad attribute won't be populated during autograd.backward(). If you indeed want the .grad field to be populated for a non-leaf Tensor, use .retain_grad() on the non-leaf Tensor. If you access the non-leaf Tensor by mistake, make sure you access the leaf Tensor instead. See github.com/pytorch/pytorch/pull/30531 for more informations. (Triggered internally at /pytorch/build/aten/src/ATen/core/TensorBody.h:489.)\n",
            "  param_grad = param.grad\n",
            "100%|██████████| 625/625 [00:01<00:00, 368.11it/s]\n"
          ]
        },
        {
          "output_type": "stream",
          "name": "stdout",
          "text": [
            "Epoch 12: Train Loss=2.0657, Acc=0.7956 | Eval Loss=0.8667, Acc=0.8952, Ece=0.0752\n"
          ]
        },
        {
          "output_type": "stream",
          "name": "stderr",
          "text": [
            "100%|██████████| 3750/3750 [00:49<00:00, 75.89it/s]\n",
            "/usr/local/lib/python3.11/dist-packages/torch/nn/modules/module.py:938: UserWarning: The .grad attribute of a Tensor that is not a leaf Tensor is being accessed. Its .grad attribute won't be populated during autograd.backward(). If you indeed want the .grad field to be populated for a non-leaf Tensor, use .retain_grad() on the non-leaf Tensor. If you access the non-leaf Tensor by mistake, make sure you access the leaf Tensor instead. See github.com/pytorch/pytorch/pull/30531 for more informations. (Triggered internally at /pytorch/build/aten/src/ATen/core/TensorBody.h:489.)\n",
            "  param_grad = param.grad\n",
            "100%|██████████| 625/625 [00:01<00:00, 412.95it/s]\n"
          ]
        },
        {
          "output_type": "stream",
          "name": "stdout",
          "text": [
            "Epoch 13: Train Loss=2.0406, Acc=0.7974 | Eval Loss=0.8397, Acc=0.8977, Ece=0.0495\n"
          ]
        },
        {
          "output_type": "stream",
          "name": "stderr",
          "text": [
            "100%|██████████| 3750/3750 [00:49<00:00, 75.94it/s]\n",
            "/usr/local/lib/python3.11/dist-packages/torch/nn/modules/module.py:938: UserWarning: The .grad attribute of a Tensor that is not a leaf Tensor is being accessed. Its .grad attribute won't be populated during autograd.backward(). If you indeed want the .grad field to be populated for a non-leaf Tensor, use .retain_grad() on the non-leaf Tensor. If you access the non-leaf Tensor by mistake, make sure you access the leaf Tensor instead. See github.com/pytorch/pytorch/pull/30531 for more informations. (Triggered internally at /pytorch/build/aten/src/ATen/core/TensorBody.h:489.)\n",
            "  param_grad = param.grad\n",
            "100%|██████████| 625/625 [00:01<00:00, 408.06it/s]\n"
          ]
        },
        {
          "output_type": "stream",
          "name": "stdout",
          "text": [
            "Epoch 14: Train Loss=2.0008, Acc=0.7972 | Eval Loss=0.8159, Acc=0.8971, Ece=0.0721\n"
          ]
        },
        {
          "output_type": "stream",
          "name": "stderr",
          "text": [
            "100%|██████████| 3750/3750 [00:49<00:00, 75.80it/s]\n",
            "/usr/local/lib/python3.11/dist-packages/torch/nn/modules/module.py:938: UserWarning: The .grad attribute of a Tensor that is not a leaf Tensor is being accessed. Its .grad attribute won't be populated during autograd.backward(). If you indeed want the .grad field to be populated for a non-leaf Tensor, use .retain_grad() on the non-leaf Tensor. If you access the non-leaf Tensor by mistake, make sure you access the leaf Tensor instead. See github.com/pytorch/pytorch/pull/30531 for more informations. (Triggered internally at /pytorch/build/aten/src/ATen/core/TensorBody.h:489.)\n",
            "  param_grad = param.grad\n",
            "100%|██████████| 625/625 [00:01<00:00, 413.28it/s]\n"
          ]
        },
        {
          "output_type": "stream",
          "name": "stdout",
          "text": [
            "Epoch 15: Train Loss=2.0161, Acc=0.7969 | Eval Loss=0.8866, Acc=0.8939, Ece=0.0563\n"
          ]
        },
        {
          "output_type": "stream",
          "name": "stderr",
          "text": [
            "100%|██████████| 3750/3750 [00:49<00:00, 75.86it/s]\n",
            "/usr/local/lib/python3.11/dist-packages/torch/nn/modules/module.py:938: UserWarning: The .grad attribute of a Tensor that is not a leaf Tensor is being accessed. Its .grad attribute won't be populated during autograd.backward(). If you indeed want the .grad field to be populated for a non-leaf Tensor, use .retain_grad() on the non-leaf Tensor. If you access the non-leaf Tensor by mistake, make sure you access the leaf Tensor instead. See github.com/pytorch/pytorch/pull/30531 for more informations. (Triggered internally at /pytorch/build/aten/src/ATen/core/TensorBody.h:489.)\n",
            "  param_grad = param.grad\n",
            "100%|██████████| 625/625 [00:01<00:00, 345.70it/s]\n"
          ]
        },
        {
          "output_type": "stream",
          "name": "stdout",
          "text": [
            "Epoch 16: Train Loss=2.0209, Acc=0.7961 | Eval Loss=0.7821, Acc=0.9036, Ece=0.0676\n"
          ]
        },
        {
          "output_type": "stream",
          "name": "stderr",
          "text": [
            "100%|██████████| 3750/3750 [00:49<00:00, 75.87it/s]\n",
            "/usr/local/lib/python3.11/dist-packages/torch/nn/modules/module.py:938: UserWarning: The .grad attribute of a Tensor that is not a leaf Tensor is being accessed. Its .grad attribute won't be populated during autograd.backward(). If you indeed want the .grad field to be populated for a non-leaf Tensor, use .retain_grad() on the non-leaf Tensor. If you access the non-leaf Tensor by mistake, make sure you access the leaf Tensor instead. See github.com/pytorch/pytorch/pull/30531 for more informations. (Triggered internally at /pytorch/build/aten/src/ATen/core/TensorBody.h:489.)\n",
            "  param_grad = param.grad\n",
            "100%|██████████| 625/625 [00:01<00:00, 414.79it/s]\n"
          ]
        },
        {
          "output_type": "stream",
          "name": "stdout",
          "text": [
            "Epoch 17: Train Loss=2.0231, Acc=0.7985 | Eval Loss=0.8835, Acc=0.8958, Ece=0.0643\n"
          ]
        },
        {
          "output_type": "stream",
          "name": "stderr",
          "text": [
            "100%|██████████| 3750/3750 [00:49<00:00, 75.93it/s]\n",
            "/usr/local/lib/python3.11/dist-packages/torch/nn/modules/module.py:938: UserWarning: The .grad attribute of a Tensor that is not a leaf Tensor is being accessed. Its .grad attribute won't be populated during autograd.backward(). If you indeed want the .grad field to be populated for a non-leaf Tensor, use .retain_grad() on the non-leaf Tensor. If you access the non-leaf Tensor by mistake, make sure you access the leaf Tensor instead. See github.com/pytorch/pytorch/pull/30531 for more informations. (Triggered internally at /pytorch/build/aten/src/ATen/core/TensorBody.h:489.)\n",
            "  param_grad = param.grad\n",
            "100%|██████████| 625/625 [00:01<00:00, 419.45it/s]\n"
          ]
        },
        {
          "output_type": "stream",
          "name": "stdout",
          "text": [
            "Epoch 18: Train Loss=2.0117, Acc=0.7971 | Eval Loss=0.8412, Acc=0.9030, Ece=0.0569\n"
          ]
        },
        {
          "output_type": "stream",
          "name": "stderr",
          "text": [
            "100%|██████████| 3750/3750 [00:49<00:00, 75.81it/s]\n",
            "/usr/local/lib/python3.11/dist-packages/torch/nn/modules/module.py:938: UserWarning: The .grad attribute of a Tensor that is not a leaf Tensor is being accessed. Its .grad attribute won't be populated during autograd.backward(). If you indeed want the .grad field to be populated for a non-leaf Tensor, use .retain_grad() on the non-leaf Tensor. If you access the non-leaf Tensor by mistake, make sure you access the leaf Tensor instead. See github.com/pytorch/pytorch/pull/30531 for more informations. (Triggered internally at /pytorch/build/aten/src/ATen/core/TensorBody.h:489.)\n",
            "  param_grad = param.grad\n",
            "100%|██████████| 625/625 [00:01<00:00, 404.84it/s]\n"
          ]
        },
        {
          "output_type": "stream",
          "name": "stdout",
          "text": [
            "Epoch 19: Train Loss=1.9940, Acc=0.7982 | Eval Loss=0.8538, Acc=0.9042, Ece=0.0702\n"
          ]
        },
        {
          "output_type": "stream",
          "name": "stderr",
          "text": [
            "100%|██████████| 3750/3750 [00:49<00:00, 75.84it/s]\n",
            "/usr/local/lib/python3.11/dist-packages/torch/nn/modules/module.py:938: UserWarning: The .grad attribute of a Tensor that is not a leaf Tensor is being accessed. Its .grad attribute won't be populated during autograd.backward(). If you indeed want the .grad field to be populated for a non-leaf Tensor, use .retain_grad() on the non-leaf Tensor. If you access the non-leaf Tensor by mistake, make sure you access the leaf Tensor instead. See github.com/pytorch/pytorch/pull/30531 for more informations. (Triggered internally at /pytorch/build/aten/src/ATen/core/TensorBody.h:489.)\n",
            "  param_grad = param.grad\n",
            "100%|██████████| 625/625 [00:02<00:00, 309.30it/s]"
          ]
        },
        {
          "output_type": "stream",
          "name": "stdout",
          "text": [
            "Epoch 20: Train Loss=1.9898, Acc=0.7995 | Eval Loss=0.8875, Acc=0.9010, Ece=0.0674\n"
          ]
        },
        {
          "output_type": "stream",
          "name": "stderr",
          "text": [
            "\n"
          ]
        }
      ]
    },
    {
      "cell_type": "code",
      "source": [
        "compare_train_results(ensamble_train_history, base_model_train_history)"
      ],
      "metadata": {
        "id": "VmsgI6G9Q1fS",
        "colab": {
          "base_uri": "https://localhost:8080/",
          "height": 677
        },
        "outputId": "17754974-915e-4e49-f6bc-0d3064016b51"
      },
      "execution_count": 62,
      "outputs": [
        {
          "output_type": "display_data",
          "data": {
            "text/plain": [
              "<Figure size 1800x800 with 4 Axes>"
            ],
            "image/png": "[encoded data removed]"
          },
          "metadata": {}
        }
      ]
    },
    {
      "cell_type": "code",
      "source": [
        "ensamble_train_history_extra_20 = train_and_eval(20, meta_model, base_model_blank, criterion, optimizer, train_loader, test_loader, device)"
      ],
      "metadata": {
        "id": "-NKgP24bafBH",
        "colab": {
          "base_uri": "https://localhost:8080/"
        },
        "outputId": "5889df63-89c7-434e-e762-56a1819d759e"
      },
      "execution_count": 63,
      "outputs": [
        {
          "output_type": "stream",
          "name": "stderr",
          "text": [
            "/usr/local/lib/python3.11/dist-packages/torch/nn/modules/module.py:938: UserWarning: The .grad attribute of a Tensor that is not a leaf Tensor is being accessed. Its .grad attribute won't be populated during autograd.backward(). If you indeed want the .grad field to be populated for a non-leaf Tensor, use .retain_grad() on the non-leaf Tensor. If you access the non-leaf Tensor by mistake, make sure you access the leaf Tensor instead. See github.com/pytorch/pytorch/pull/30531 for more informations. (Triggered internally at /pytorch/build/aten/src/ATen/core/TensorBody.h:489.)\n",
            "  param_grad = param.grad\n",
            "100%|██████████| 3750/3750 [00:50<00:00, 74.69it/s]\n",
            "/usr/local/lib/python3.11/dist-packages/torch/nn/modules/module.py:938: UserWarning: The .grad attribute of a Tensor that is not a leaf Tensor is being accessed. Its .grad attribute won't be populated during autograd.backward(). If you indeed want the .grad field to be populated for a non-leaf Tensor, use .retain_grad() on the non-leaf Tensor. If you access the non-leaf Tensor by mistake, make sure you access the leaf Tensor instead. See github.com/pytorch/pytorch/pull/30531 for more informations. (Triggered internally at /pytorch/build/aten/src/ATen/core/TensorBody.h:489.)\n",
            "  param_grad = param.grad\n",
            "100%|██████████| 625/625 [00:01<00:00, 407.30it/s]\n"
          ]
        },
        {
          "output_type": "stream",
          "name": "stdout",
          "text": [
            "Epoch 1: Train Loss=1.9931, Acc=0.7984 | Eval Loss=0.8311, Acc=0.9016, Ece=0.0639\n"
          ]
        },
        {
          "output_type": "stream",
          "name": "stderr",
          "text": [
            "100%|██████████| 3750/3750 [00:49<00:00, 75.81it/s]\n",
            "/usr/local/lib/python3.11/dist-packages/torch/nn/modules/module.py:938: UserWarning: The .grad attribute of a Tensor that is not a leaf Tensor is being accessed. Its .grad attribute won't be populated during autograd.backward(). If you indeed want the .grad field to be populated for a non-leaf Tensor, use .retain_grad() on the non-leaf Tensor. If you access the non-leaf Tensor by mistake, make sure you access the leaf Tensor instead. See github.com/pytorch/pytorch/pull/30531 for more informations. (Triggered internally at /pytorch/build/aten/src/ATen/core/TensorBody.h:489.)\n",
            "  param_grad = param.grad\n",
            "100%|██████████| 625/625 [00:01<00:00, 409.88it/s]\n"
          ]
        },
        {
          "output_type": "stream",
          "name": "stdout",
          "text": [
            "Epoch 2: Train Loss=1.9927, Acc=0.7995 | Eval Loss=0.7968, Acc=0.9083, Ece=0.0786\n"
          ]
        },
        {
          "output_type": "stream",
          "name": "stderr",
          "text": [
            "100%|██████████| 3750/3750 [00:49<00:00, 75.79it/s]\n",
            "/usr/local/lib/python3.11/dist-packages/torch/nn/modules/module.py:938: UserWarning: The .grad attribute of a Tensor that is not a leaf Tensor is being accessed. Its .grad attribute won't be populated during autograd.backward(). If you indeed want the .grad field to be populated for a non-leaf Tensor, use .retain_grad() on the non-leaf Tensor. If you access the non-leaf Tensor by mistake, make sure you access the leaf Tensor instead. See github.com/pytorch/pytorch/pull/30531 for more informations. (Triggered internally at /pytorch/build/aten/src/ATen/core/TensorBody.h:489.)\n",
            "  param_grad = param.grad\n",
            "100%|██████████| 625/625 [00:01<00:00, 381.92it/s]\n"
          ]
        },
        {
          "output_type": "stream",
          "name": "stdout",
          "text": [
            "Epoch 3: Train Loss=1.9725, Acc=0.8024 | Eval Loss=0.8002, Acc=0.9086, Ece=0.0726\n"
          ]
        },
        {
          "output_type": "stream",
          "name": "stderr",
          "text": [
            "100%|██████████| 3750/3750 [00:49<00:00, 75.60it/s]\n",
            "/usr/local/lib/python3.11/dist-packages/torch/nn/modules/module.py:938: UserWarning: The .grad attribute of a Tensor that is not a leaf Tensor is being accessed. Its .grad attribute won't be populated during autograd.backward(). If you indeed want the .grad field to be populated for a non-leaf Tensor, use .retain_grad() on the non-leaf Tensor. If you access the non-leaf Tensor by mistake, make sure you access the leaf Tensor instead. See github.com/pytorch/pytorch/pull/30531 for more informations. (Triggered internally at /pytorch/build/aten/src/ATen/core/TensorBody.h:489.)\n",
            "  param_grad = param.grad\n",
            "100%|██████████| 625/625 [00:01<00:00, 392.34it/s]\n"
          ]
        },
        {
          "output_type": "stream",
          "name": "stdout",
          "text": [
            "Epoch 4: Train Loss=1.9747, Acc=0.7993 | Eval Loss=0.8099, Acc=0.9033, Ece=0.0588\n"
          ]
        },
        {
          "output_type": "stream",
          "name": "stderr",
          "text": [
            "100%|██████████| 3750/3750 [00:49<00:00, 75.87it/s]\n",
            "/usr/local/lib/python3.11/dist-packages/torch/nn/modules/module.py:938: UserWarning: The .grad attribute of a Tensor that is not a leaf Tensor is being accessed. Its .grad attribute won't be populated during autograd.backward(). If you indeed want the .grad field to be populated for a non-leaf Tensor, use .retain_grad() on the non-leaf Tensor. If you access the non-leaf Tensor by mistake, make sure you access the leaf Tensor instead. See github.com/pytorch/pytorch/pull/30531 for more informations. (Triggered internally at /pytorch/build/aten/src/ATen/core/TensorBody.h:489.)\n",
            "  param_grad = param.grad\n",
            "100%|██████████| 625/625 [00:01<00:00, 406.44it/s]\n"
          ]
        },
        {
          "output_type": "stream",
          "name": "stdout",
          "text": [
            "Epoch 5: Train Loss=1.9701, Acc=0.7994 | Eval Loss=0.8096, Acc=0.9046, Ece=0.0653\n"
          ]
        },
        {
          "output_type": "stream",
          "name": "stderr",
          "text": [
            "100%|██████████| 3750/3750 [00:49<00:00, 75.88it/s]\n",
            "/usr/local/lib/python3.11/dist-packages/torch/nn/modules/module.py:938: UserWarning: The .grad attribute of a Tensor that is not a leaf Tensor is being accessed. Its .grad attribute won't be populated during autograd.backward(). If you indeed want the .grad field to be populated for a non-leaf Tensor, use .retain_grad() on the non-leaf Tensor. If you access the non-leaf Tensor by mistake, make sure you access the leaf Tensor instead. See github.com/pytorch/pytorch/pull/30531 for more informations. (Triggered internally at /pytorch/build/aten/src/ATen/core/TensorBody.h:489.)\n",
            "  param_grad = param.grad\n",
            "100%|██████████| 625/625 [00:01<00:00, 406.35it/s]\n"
          ]
        },
        {
          "output_type": "stream",
          "name": "stdout",
          "text": [
            "Epoch 6: Train Loss=1.9641, Acc=0.7995 | Eval Loss=0.8204, Acc=0.9012, Ece=0.0519\n"
          ]
        },
        {
          "output_type": "stream",
          "name": "stderr",
          "text": [
            "100%|██████████| 3750/3750 [00:49<00:00, 75.75it/s]\n",
            "/usr/local/lib/python3.11/dist-packages/torch/nn/modules/module.py:938: UserWarning: The .grad attribute of a Tensor that is not a leaf Tensor is being accessed. Its .grad attribute won't be populated during autograd.backward(). If you indeed want the .grad field to be populated for a non-leaf Tensor, use .retain_grad() on the non-leaf Tensor. If you access the non-leaf Tensor by mistake, make sure you access the leaf Tensor instead. See github.com/pytorch/pytorch/pull/30531 for more informations. (Triggered internally at /pytorch/build/aten/src/ATen/core/TensorBody.h:489.)\n",
            "  param_grad = param.grad\n",
            "100%|██████████| 625/625 [00:01<00:00, 356.27it/s]\n"
          ]
        },
        {
          "output_type": "stream",
          "name": "stdout",
          "text": [
            "Epoch 7: Train Loss=1.9459, Acc=0.8026 | Eval Loss=0.8298, Acc=0.9015, Ece=0.0665\n"
          ]
        },
        {
          "output_type": "stream",
          "name": "stderr",
          "text": [
            "100%|██████████| 3750/3750 [00:49<00:00, 75.75it/s]\n",
            "/usr/local/lib/python3.11/dist-packages/torch/nn/modules/module.py:938: UserWarning: The .grad attribute of a Tensor that is not a leaf Tensor is being accessed. Its .grad attribute won't be populated during autograd.backward(). If you indeed want the .grad field to be populated for a non-leaf Tensor, use .retain_grad() on the non-leaf Tensor. If you access the non-leaf Tensor by mistake, make sure you access the leaf Tensor instead. See github.com/pytorch/pytorch/pull/30531 for more informations. (Triggered internally at /pytorch/build/aten/src/ATen/core/TensorBody.h:489.)\n",
            "  param_grad = param.grad\n",
            "100%|██████████| 625/625 [00:01<00:00, 404.69it/s]\n"
          ]
        },
        {
          "output_type": "stream",
          "name": "stdout",
          "text": [
            "Epoch 8: Train Loss=1.9691, Acc=0.8010 | Eval Loss=0.8395, Acc=0.8961, Ece=0.0546\n"
          ]
        },
        {
          "output_type": "stream",
          "name": "stderr",
          "text": [
            "100%|██████████| 3750/3750 [00:51<00:00, 73.11it/s]\n",
            "/usr/local/lib/python3.11/dist-packages/torch/nn/modules/module.py:938: UserWarning: The .grad attribute of a Tensor that is not a leaf Tensor is being accessed. Its .grad attribute won't be populated during autograd.backward(). If you indeed want the .grad field to be populated for a non-leaf Tensor, use .retain_grad() on the non-leaf Tensor. If you access the non-leaf Tensor by mistake, make sure you access the leaf Tensor instead. See github.com/pytorch/pytorch/pull/30531 for more informations. (Triggered internally at /pytorch/build/aten/src/ATen/core/TensorBody.h:489.)\n",
            "  param_grad = param.grad\n",
            "100%|██████████| 625/625 [00:01<00:00, 397.10it/s]\n"
          ]
        },
        {
          "output_type": "stream",
          "name": "stdout",
          "text": [
            "Epoch 9: Train Loss=1.9468, Acc=0.8005 | Eval Loss=0.8273, Acc=0.9061, Ece=0.0572\n"
          ]
        },
        {
          "output_type": "stream",
          "name": "stderr",
          "text": [
            "100%|██████████| 3750/3750 [00:49<00:00, 75.94it/s]\n",
            "/usr/local/lib/python3.11/dist-packages/torch/nn/modules/module.py:938: UserWarning: The .grad attribute of a Tensor that is not a leaf Tensor is being accessed. Its .grad attribute won't be populated during autograd.backward(). If you indeed want the .grad field to be populated for a non-leaf Tensor, use .retain_grad() on the non-leaf Tensor. If you access the non-leaf Tensor by mistake, make sure you access the leaf Tensor instead. See github.com/pytorch/pytorch/pull/30531 for more informations. (Triggered internally at /pytorch/build/aten/src/ATen/core/TensorBody.h:489.)\n",
            "  param_grad = param.grad\n",
            "100%|██████████| 625/625 [00:01<00:00, 409.45it/s]\n"
          ]
        },
        {
          "output_type": "stream",
          "name": "stdout",
          "text": [
            "Epoch 10: Train Loss=1.9227, Acc=0.8027 | Eval Loss=0.8373, Acc=0.9083, Ece=0.0563\n"
          ]
        },
        {
          "output_type": "stream",
          "name": "stderr",
          "text": [
            "100%|██████████| 3750/3750 [00:49<00:00, 75.76it/s]\n",
            "/usr/local/lib/python3.11/dist-packages/torch/nn/modules/module.py:938: UserWarning: The .grad attribute of a Tensor that is not a leaf Tensor is being accessed. Its .grad attribute won't be populated during autograd.backward(). If you indeed want the .grad field to be populated for a non-leaf Tensor, use .retain_grad() on the non-leaf Tensor. If you access the non-leaf Tensor by mistake, make sure you access the leaf Tensor instead. See github.com/pytorch/pytorch/pull/30531 for more informations. (Triggered internally at /pytorch/build/aten/src/ATen/core/TensorBody.h:489.)\n",
            "  param_grad = param.grad\n",
            "100%|██████████| 625/625 [00:01<00:00, 320.81it/s]\n"
          ]
        },
        {
          "output_type": "stream",
          "name": "stdout",
          "text": [
            "Epoch 11: Train Loss=1.9123, Acc=0.8013 | Eval Loss=0.7764, Acc=0.9077, Ece=0.0724\n"
          ]
        },
        {
          "output_type": "stream",
          "name": "stderr",
          "text": [
            "100%|██████████| 3750/3750 [00:49<00:00, 75.84it/s]\n",
            "/usr/local/lib/python3.11/dist-packages/torch/nn/modules/module.py:938: UserWarning: The .grad attribute of a Tensor that is not a leaf Tensor is being accessed. Its .grad attribute won't be populated during autograd.backward(). If you indeed want the .grad field to be populated for a non-leaf Tensor, use .retain_grad() on the non-leaf Tensor. If you access the non-leaf Tensor by mistake, make sure you access the leaf Tensor instead. See github.com/pytorch/pytorch/pull/30531 for more informations. (Triggered internally at /pytorch/build/aten/src/ATen/core/TensorBody.h:489.)\n",
            "  param_grad = param.grad\n",
            "100%|██████████| 625/625 [00:01<00:00, 408.17it/s]\n"
          ]
        },
        {
          "output_type": "stream",
          "name": "stdout",
          "text": [
            "Epoch 12: Train Loss=1.9386, Acc=0.8004 | Eval Loss=0.7943, Acc=0.9030, Ece=0.0565\n"
          ]
        },
        {
          "output_type": "stream",
          "name": "stderr",
          "text": [
            "100%|██████████| 3750/3750 [00:49<00:00, 75.98it/s]\n",
            "/usr/local/lib/python3.11/dist-packages/torch/nn/modules/module.py:938: UserWarning: The .grad attribute of a Tensor that is not a leaf Tensor is being accessed. Its .grad attribute won't be populated during autograd.backward(). If you indeed want the .grad field to be populated for a non-leaf Tensor, use .retain_grad() on the non-leaf Tensor. If you access the non-leaf Tensor by mistake, make sure you access the leaf Tensor instead. See github.com/pytorch/pytorch/pull/30531 for more informations. (Triggered internally at /pytorch/build/aten/src/ATen/core/TensorBody.h:489.)\n",
            "  param_grad = param.grad\n",
            "100%|██████████| 625/625 [00:01<00:00, 406.80it/s]\n"
          ]
        },
        {
          "output_type": "stream",
          "name": "stdout",
          "text": [
            "Epoch 13: Train Loss=1.8734, Acc=0.8040 | Eval Loss=0.8135, Acc=0.9020, Ece=0.0756\n"
          ]
        },
        {
          "output_type": "stream",
          "name": "stderr",
          "text": [
            "100%|██████████| 3750/3750 [00:49<00:00, 75.88it/s]\n",
            "/usr/local/lib/python3.11/dist-packages/torch/nn/modules/module.py:938: UserWarning: The .grad attribute of a Tensor that is not a leaf Tensor is being accessed. Its .grad attribute won't be populated during autograd.backward(). If you indeed want the .grad field to be populated for a non-leaf Tensor, use .retain_grad() on the non-leaf Tensor. If you access the non-leaf Tensor by mistake, make sure you access the leaf Tensor instead. See github.com/pytorch/pytorch/pull/30531 for more informations. (Triggered internally at /pytorch/build/aten/src/ATen/core/TensorBody.h:489.)\n",
            "  param_grad = param.grad\n",
            "100%|██████████| 625/625 [00:01<00:00, 402.81it/s]\n"
          ]
        },
        {
          "output_type": "stream",
          "name": "stdout",
          "text": [
            "Epoch 14: Train Loss=1.8739, Acc=0.8036 | Eval Loss=0.8696, Acc=0.8989, Ece=0.0566\n"
          ]
        },
        {
          "output_type": "stream",
          "name": "stderr",
          "text": [
            "100%|██████████| 3750/3750 [00:49<00:00, 75.92it/s]\n",
            "/usr/local/lib/python3.11/dist-packages/torch/nn/modules/module.py:938: UserWarning: The .grad attribute of a Tensor that is not a leaf Tensor is being accessed. Its .grad attribute won't be populated during autograd.backward(). If you indeed want the .grad field to be populated for a non-leaf Tensor, use .retain_grad() on the non-leaf Tensor. If you access the non-leaf Tensor by mistake, make sure you access the leaf Tensor instead. See github.com/pytorch/pytorch/pull/30531 for more informations. (Triggered internally at /pytorch/build/aten/src/ATen/core/TensorBody.h:489.)\n",
            "  param_grad = param.grad\n",
            "100%|██████████| 625/625 [00:01<00:00, 333.91it/s]\n"
          ]
        },
        {
          "output_type": "stream",
          "name": "stdout",
          "text": [
            "Epoch 15: Train Loss=1.8772, Acc=0.8028 | Eval Loss=0.7833, Acc=0.9024, Ece=0.0758\n"
          ]
        },
        {
          "output_type": "stream",
          "name": "stderr",
          "text": [
            "100%|██████████| 3750/3750 [00:49<00:00, 75.97it/s]\n",
            "/usr/local/lib/python3.11/dist-packages/torch/nn/modules/module.py:938: UserWarning: The .grad attribute of a Tensor that is not a leaf Tensor is being accessed. Its .grad attribute won't be populated during autograd.backward(). If you indeed want the .grad field to be populated for a non-leaf Tensor, use .retain_grad() on the non-leaf Tensor. If you access the non-leaf Tensor by mistake, make sure you access the leaf Tensor instead. See github.com/pytorch/pytorch/pull/30531 for more informations. (Triggered internally at /pytorch/build/aten/src/ATen/core/TensorBody.h:489.)\n",
            "  param_grad = param.grad\n",
            "100%|██████████| 625/625 [00:01<00:00, 404.76it/s]\n"
          ]
        },
        {
          "output_type": "stream",
          "name": "stdout",
          "text": [
            "Epoch 16: Train Loss=1.8829, Acc=0.8032 | Eval Loss=0.7945, Acc=0.9063, Ece=0.0759\n"
          ]
        },
        {
          "output_type": "stream",
          "name": "stderr",
          "text": [
            "100%|██████████| 3750/3750 [00:49<00:00, 75.96it/s]\n",
            "/usr/local/lib/python3.11/dist-packages/torch/nn/modules/module.py:938: UserWarning: The .grad attribute of a Tensor that is not a leaf Tensor is being accessed. Its .grad attribute won't be populated during autograd.backward(). If you indeed want the .grad field to be populated for a non-leaf Tensor, use .retain_grad() on the non-leaf Tensor. If you access the non-leaf Tensor by mistake, make sure you access the leaf Tensor instead. See github.com/pytorch/pytorch/pull/30531 for more informations. (Triggered internally at /pytorch/build/aten/src/ATen/core/TensorBody.h:489.)\n",
            "  param_grad = param.grad\n",
            "100%|██████████| 625/625 [00:01<00:00, 407.94it/s]\n"
          ]
        },
        {
          "output_type": "stream",
          "name": "stdout",
          "text": [
            "Epoch 17: Train Loss=1.8739, Acc=0.8028 | Eval Loss=0.7937, Acc=0.9056, Ece=0.0705\n"
          ]
        },
        {
          "output_type": "stream",
          "name": "stderr",
          "text": [
            "100%|██████████| 3750/3750 [00:49<00:00, 75.92it/s]\n",
            "/usr/local/lib/python3.11/dist-packages/torch/nn/modules/module.py:938: UserWarning: The .grad attribute of a Tensor that is not a leaf Tensor is being accessed. Its .grad attribute won't be populated during autograd.backward(). If you indeed want the .grad field to be populated for a non-leaf Tensor, use .retain_grad() on the non-leaf Tensor. If you access the non-leaf Tensor by mistake, make sure you access the leaf Tensor instead. See github.com/pytorch/pytorch/pull/30531 for more informations. (Triggered internally at /pytorch/build/aten/src/ATen/core/TensorBody.h:489.)\n",
            "  param_grad = param.grad\n",
            "100%|██████████| 625/625 [00:01<00:00, 404.99it/s]\n"
          ]
        },
        {
          "output_type": "stream",
          "name": "stdout",
          "text": [
            "Epoch 18: Train Loss=1.8120, Acc=0.8071 | Eval Loss=0.8203, Acc=0.8992, Ece=0.0722\n"
          ]
        },
        {
          "output_type": "stream",
          "name": "stderr",
          "text": [
            "100%|██████████| 3750/3750 [00:49<00:00, 76.02it/s]\n",
            "/usr/local/lib/python3.11/dist-packages/torch/nn/modules/module.py:938: UserWarning: The .grad attribute of a Tensor that is not a leaf Tensor is being accessed. Its .grad attribute won't be populated during autograd.backward(). If you indeed want the .grad field to be populated for a non-leaf Tensor, use .retain_grad() on the non-leaf Tensor. If you access the non-leaf Tensor by mistake, make sure you access the leaf Tensor instead. See github.com/pytorch/pytorch/pull/30531 for more informations. (Triggered internally at /pytorch/build/aten/src/ATen/core/TensorBody.h:489.)\n",
            "  param_grad = param.grad\n",
            "100%|██████████| 625/625 [00:01<00:00, 344.21it/s]\n"
          ]
        },
        {
          "output_type": "stream",
          "name": "stdout",
          "text": [
            "Epoch 19: Train Loss=1.8179, Acc=0.8050 | Eval Loss=0.7982, Acc=0.9056, Ece=0.0581\n"
          ]
        },
        {
          "output_type": "stream",
          "name": "stderr",
          "text": [
            "100%|██████████| 3750/3750 [00:49<00:00, 76.05it/s]\n",
            "/usr/local/lib/python3.11/dist-packages/torch/nn/modules/module.py:938: UserWarning: The .grad attribute of a Tensor that is not a leaf Tensor is being accessed. Its .grad attribute won't be populated during autograd.backward(). If you indeed want the .grad field to be populated for a non-leaf Tensor, use .retain_grad() on the non-leaf Tensor. If you access the non-leaf Tensor by mistake, make sure you access the leaf Tensor instead. See github.com/pytorch/pytorch/pull/30531 for more informations. (Triggered internally at /pytorch/build/aten/src/ATen/core/TensorBody.h:489.)\n",
            "  param_grad = param.grad\n",
            "100%|██████████| 625/625 [00:01<00:00, 404.28it/s]"
          ]
        },
        {
          "output_type": "stream",
          "name": "stdout",
          "text": [
            "Epoch 20: Train Loss=1.8497, Acc=0.8041 | Eval Loss=0.7462, Acc=0.9080, Ece=0.0812\n"
          ]
        },
        {
          "output_type": "stream",
          "name": "stderr",
          "text": [
            "\n"
          ]
        }
      ]
    },
    {
      "cell_type": "code",
      "source": [
        "compare_train_results(ensamble_train_history_extra_20)"
      ],
      "metadata": {
        "colab": {
          "base_uri": "https://localhost:8080/",
          "height": 677
        },
        "id": "aRFoFbzK439R",
        "outputId": "9eb6e3da-9449-44ff-9a9f-2bf74100a1ed"
      },
      "execution_count": 64,
      "outputs": [
        {
          "output_type": "display_data",
          "data": {
            "text/plain": [
              "<Figure size 1800x800 with 4 Axes>"
            ],
            "image/png": "[encoded data removed]"
          },
          "metadata": {}
        }
      ]
    },
    {
      "cell_type": "code",
      "source": [],
      "metadata": {
        "id": "lPAUoCc16kby"
      },
      "execution_count": null,
      "outputs": []
    }
  ]
}